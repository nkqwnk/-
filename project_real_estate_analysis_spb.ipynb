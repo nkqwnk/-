{
 "cells": [
  {
   "cell_type": "markdown",
   "id": "58ff8b1a",
   "metadata": {},
   "source": [
    "# Анализ рынка квартир в Санкт-Петербурге"
   ]
  },
  {
   "cell_type": "markdown",
   "id": "142743c4",
   "metadata": {},
   "source": [
    "В нашем распоряжении данные сервиса Яндекс Недвижимость — архив объявлений за несколько лет о продаже квартир в Санкт-Петербурге и соседних населённых пунктах. В рамках данного проекта наша задача — выполнить предобработку данных и изучить их, чтобы найти интересные особенности и зависимости, которые существуют на рынке недвижимости.<br>\n",
    "О каждой квартире в базе содержится два типа данных: добавленные пользователем и картографические. Например, к первому типу относятся площадь квартиры, её этаж и количество балконов, ко второму — расстояния до центра города, аэропорта и ближайшего парка."
   ]
  },
  {
   "cell_type": "markdown",
   "id": "745b6f72",
   "metadata": {},
   "source": [
    "## 1. Загрузка и обзор датафрейма"
   ]
  },
  {
   "cell_type": "markdown",
   "id": "c274c22b",
   "metadata": {},
   "source": [
    "Импортируем библиотеку pandas для работы с набором данных, библиотеку matplotlib для отображения графиков,библиотеку plotly для более удобной визуализации и библиотеку missingno для простой визуализации пропусков:"
   ]
  },
  {
   "cell_type": "code",
   "execution_count": null,
   "id": "c0d277d7",
   "metadata": {},
   "outputs": [],
   "source": [
    "import pandas as pd\n",
    "import plotly.express as px\n",
    "import matplotlib.pyplot as plt\n",
    "#!pip install missingno\n",
    "import missingno as msno"
   ]
  },
  {
   "cell_type": "markdown",
   "id": "26041995",
   "metadata": {},
   "source": [
    "Считаем в переменную flats наши данные и посмотрим на первые 5 строк таблицы:"
   ]
  },
  {
   "cell_type": "code",
   "execution_count": null,
   "id": "2ea7a756",
   "metadata": {},
   "outputs": [],
   "source": [
    "flats = pd.read_csv('real_estate_data.csv', sep='\\t')\n",
    "flats.head()"
   ]
  },
  {
   "cell_type": "markdown",
   "id": "603336dd",
   "metadata": {},
   "source": [
    "Узнаем теперь, с каким количеством данных имеем дело:"
   ]
  },
  {
   "cell_type": "code",
   "execution_count": null,
   "id": "75ebfa2b",
   "metadata": {},
   "outputs": [],
   "source": [
    "flats.shape"
   ]
  },
  {
   "cell_type": "markdown",
   "id": "124ec8e2",
   "metadata": {},
   "source": [
    "Итак, в нашей таблице 23699 строк и 22 столбца, получим о них дополнительную информацию:"
   ]
  },
  {
   "cell_type": "code",
   "execution_count": null,
   "id": "920abd3b",
   "metadata": {},
   "outputs": [],
   "source": [
    "flats.info()"
   ]
  },
  {
   "cell_type": "markdown",
   "id": "61ee037d",
   "metadata": {},
   "source": [
    "Как можно видеть, данный набор данных содержит весьма большое количество пропусков. С ними разберемся в следующей части исследования, а сейчас построим общую гистограмму для нашей таблицы:"
   ]
  },
  {
   "cell_type": "code",
   "execution_count": null,
   "id": "38bce38c",
   "metadata": {},
   "outputs": [],
   "source": [
    "flats.hist(figsize=(20, 20), color='indigo')\n",
    "plt.show()"
   ]
  },
  {
   "cell_type": "markdown",
   "id": "cbc84e59",
   "metadata": {},
   "source": [
    "Перед тем, как делать по гистограммам какие-то выводы, займемся предобработкой данных."
   ]
  },
  {
   "cell_type": "markdown",
   "id": "d1df4ec9",
   "metadata": {},
   "source": [
    "## 2. Предобработка данных"
   ]
  },
  {
   "cell_type": "markdown",
   "id": "e32fb0ac",
   "metadata": {},
   "source": [
    "### 1. Работа с пропусками"
   ]
  },
  {
   "cell_type": "markdown",
   "id": "034d57bb",
   "metadata": {},
   "source": [
    "Сперва займемся обработкой пропусков. Визуально оценим их количество в каждом столбце:"
   ]
  },
  {
   "cell_type": "code",
   "execution_count": null,
   "id": "41c981e7",
   "metadata": {},
   "outputs": [],
   "source": [
    "msno.matrix(flats, labels=True)"
   ]
  },
  {
   "cell_type": "markdown",
   "id": "f1441724",
   "metadata": {},
   "source": [
    "Как видим, многие столбцы содержат пропуски, причем в некоторых (например, в 'is_apartment', 'parks_nearest', 'ponds_nearest') их количество весьма ощутимо.<br>\n",
    "Попробуем, насколько это возможно, найти причину наличия пропусков и отредактируем в соответствии с ней наш датафрейм. В тех столбцах, где способ заполнения пропусков найти не удастся - оставим все как есть."
   ]
  },
  {
   "cell_type": "markdown",
   "id": "433c7857",
   "metadata": {},
   "source": [
    "В столбцах 'ceiling_height', 'floors_total', 'living_area', 'kitchen_area', 'locality_name', 'airports_nearest', 'cityCenters_nearest', 'parks_nearest', 'ponds_nearest' и 'days_exposition' выявить какую-то логику, позволяющую заменить пропуски какими-то значениями, сложно. Нереалистичной кажется гипотеза о том, что пропуск на самом деле говорит о нулевом значении (в доме не может быть 0 этажей, до ближайшего водоема не может быть 0 метров, название населенного пункта не может быть пустым). Попробуем выдвинуть гипотезы о причинах наличия этих пропусков ниже."
   ]
  },
  {
   "cell_type": "markdown",
   "id": "7c8bbc31",
   "metadata": {},
   "source": [
    "Данные в столбцы 'ceiling_height', 'floors_total', 'living_area', 'kitchen_area', 'locality_name', судя по всему, заносятся пользователями. Тогда можно предположить, что в случае со столбцами 'ceiling_height', 'living_area' и 'kitchen_area' пользователь не имел представления о значении конкретной характеристики, не имел возможности или желания их измерить.<br>\n",
    "То же сложно сказать о данных в столбцах 'floors_total' и 'locality_name' - трудно представить, что хозяин квартиры не знает, сколько этажей в его доме, и в каком населенном пункте он живет. Скорее всего, тут мы имеем дело с ошибкой в сборе данных, что может подтверждать и очень малое количество таких пропусков - 86 и 49 соответственно."
   ]
  },
  {
   "cell_type": "markdown",
   "id": "fb47a382",
   "metadata": {},
   "source": [
    "Теперь обратимся к пропускам в столбцах 'airports_nearest', 'cityCenters_nearest', 'parks_nearest' и 'ponds_nearest'. Эти данные, как это представляется, должны определяться автоматически. Сперва разберемся со столбцами 'parks_nearest' и 'ponds_nearest'. Как можно видеть в коде ниже, ситуаций, в которых при отсутствии парка или пруда в радиусе 3000 метров значением столбцов 'parks_nearest' и 'ponds_nearest' является NaN почти столько же (в случае с прудами - в точности столько же), сколько и просто ситуаций, в которых в данных столбцах стоит NaN. Тогда предположим, что когда в необходимом радиусе нет указанных объектов, расстоянию до ближайшего из них автоматически не присваивается никакого значения. Исправить данный пропуск, наверное, можно, подставив вместо него любое значение больше 3000, к примеру, 3001. Однако, это может создать перекос при анализе данных, поэтому никак его трогать не будем."
   ]
  },
  {
   "cell_type": "code",
   "execution_count": null,
   "id": "3c18e4cc",
   "metadata": {},
   "outputs": [],
   "source": [
    "flats[flats['parks_around3000'] == 0].shape[0], flats[(flats['parks_around3000'] == 0) & (flats['parks_nearest'].isna() == True)].shape[0]"
   ]
  },
  {
   "cell_type": "code",
   "execution_count": null,
   "id": "7f471b39",
   "metadata": {},
   "outputs": [],
   "source": [
    "flats[flats['ponds_around3000'] == 0].shape[0], flats[(flats['ponds_around3000'] == 0) & (flats['ponds_nearest'].isna() == True)].shape[0]"
   ]
  },
  {
   "cell_type": "markdown",
   "id": "8a29d61b",
   "metadata": {},
   "source": [
    "Рассмотрим столбцы 'airports_nearest' и 'cityCenters_nearest'. Условно можно объяснить пропуск в этих данных так - \"Аэропорта рядом нет, центр города - далеко\", но не вполне ясно, в каком радиусе ищутся эти расстояния, ведь любой точке на карте можно сопоставить ближайший аэропорт или вычислить ее расстояние до центра определенного города. Процедура поиска указанных расстояний нам неочевидна, поэтому точно так же ничего с этими пропусками делать не будем."
   ]
  },
  {
   "cell_type": "markdown",
   "id": "fdb0298c",
   "metadata": {},
   "source": [
    "Остался последний столбец из тех, в которых неочевидна возможность пропуски исправить - 'days_exposition'. Рассмотрим предположение о том, что на месте пропуска должен стоять 0.<br>\n",
    "В остальных данных случаев, когда значение в этом столбце было бы нулевым, - нет, что следует из кода:"
   ]
  },
  {
   "cell_type": "code",
   "execution_count": null,
   "id": "84d17be9",
   "metadata": {},
   "outputs": [],
   "source": [
    "flats[flats['days_exposition'] == 0].shape[0]"
   ]
  },
  {
   "cell_type": "markdown",
   "id": "9cdd44bc",
   "metadata": {},
   "source": [
    "О чем могло бы говорить нулевое значение в данном столбце? Возможно, о снятии объявления раньше, чем за 1 день. Для понимания адекватности этой гипотезы найдем, сколько объявлений сняли за прилегающий период.<br>\n",
    "Обратимся к коду ниже - объявлений, снятых с сервиса в интервале от 1 до 10 дней - 1257, что в 2,5 раза меньше, чем объявлений, снятых менее чем за 1 день (за количество которых принимаем по гипотезе количество пропусков - 3181). Представляется маловероятным, что количество снятых меньше чем за сутки объвлений настолько больше, чем суммарное количество объявлений, снятых за следующие 10 дней. Видимо, гипотеза о нулевом значении в данном случае не соответствует реальности. В качестве других причин можно опять предложить ошибку в сборе данных и автоматическом присваивании значений - снова оставляем пропуск нетронутым."
   ]
  },
  {
   "cell_type": "code",
   "execution_count": null,
   "id": "9430c6f3",
   "metadata": {},
   "outputs": [],
   "source": [
    "flats[(flats['days_exposition'] >= 1) & (flats['days_exposition'] <= 10)].shape[0]"
   ]
  },
  {
   "cell_type": "markdown",
   "id": "1bb844bf",
   "metadata": {},
   "source": [
    "Пропуски же в столбцах 'is_apartment', 'balcony', 'parks_around3000' и 'parks_around3000' вполне объяснимы, во всех случаях пропуск выражает ответ \"нет\" на соответствующий вопрос: \"Является ли квартира аппартаментами?\", \"Есть ли в квартире балкон?\", \"Есть ли парки или водоемы в радиусе 3000 метров от дома\"? Тогда заполним пропуски соответствующими значениями:"
   ]
  },
  {
   "cell_type": "code",
   "execution_count": null,
   "id": "daf6e932",
   "metadata": {},
   "outputs": [],
   "source": [
    "values = {'is_apartment': False, 'balcony': 0, 'parks_around3000': 0, 'parks_around3000': 0}\n",
    "flats = flats.fillna(value=values)"
   ]
  },
  {
   "cell_type": "markdown",
   "id": "28968c52",
   "metadata": {},
   "source": [
    "Удостоверимся, что в выбранных столбцах больше нет пропусков:"
   ]
  },
  {
   "cell_type": "code",
   "execution_count": null,
   "id": "18039da8",
   "metadata": {},
   "outputs": [],
   "source": [
    "flats[['is_apartment', 'balcony', 'parks_around3000', 'parks_around3000']].isna().sum()"
   ]
  },
  {
   "cell_type": "markdown",
   "id": "3acf49aa",
   "metadata": {},
   "source": [
    "### 2. Преобразование типов"
   ]
  },
  {
   "cell_type": "markdown",
   "id": "81528f4f",
   "metadata": {},
   "source": [
    "Вспомним, каким типом данных записывается каждый из признаков (столбцов):"
   ]
  },
  {
   "cell_type": "code",
   "execution_count": null,
   "id": "d503b9e6",
   "metadata": {},
   "outputs": [],
   "source": [
    "flats.info()"
   ]
  },
  {
   "cell_type": "markdown",
   "id": "b084aa1b",
   "metadata": {},
   "source": [
    "Получим случайный срез данных, попробуем оценить, какие столбцы могут быть представлены иным, более подходящим им типом. Для этого потребуем показывать нам все столбцы датафрейма:"
   ]
  },
  {
   "cell_type": "code",
   "execution_count": null,
   "id": "2cdf3157",
   "metadata": {},
   "outputs": [],
   "source": [
    "pd.set_option('display.max_columns', None)\n",
    "flats.sample(5)"
   ]
  },
  {
   "cell_type": "markdown",
   "id": "a61b8355",
   "metadata": {},
   "source": [
    "Складывается впечатление, что данные в столбцах 'last_price', 'total_area', 'floors_total', 'balcony', 'airports_nearest', 'cityCenters_nearest', 'parks_around3000', 'parks_nearest', 'ponds_around3000', 'ponds_nearest' и 'days_exposition' представлены в виде целых чисел, что позволяет в целях экономии памяти изменить их тип на int32.<br>\n",
    "Однако, как это видно выше, лишь колонки 'last_price', 'total_area', 'balcony' и 'parks_around3000' не содержат в себе пропусков, что в этой ситуации важно. Дело в том, что pandas хранит числовые колонки с NaN как колонки типа float64, и не поддерживает возможность их перевода в другие типы.<br>\n",
    "В связи с этим ограничением, переведем в целочисленный тип лишь столбцы без пропусков:"
   ]
  },
  {
   "cell_type": "code",
   "execution_count": null,
   "id": "2253eed5",
   "metadata": {},
   "outputs": [],
   "source": [
    "cols_to_convert = ['last_price', 'total_area', 'balcony', 'parks_around3000']\n",
    "for col in cols_to_convert:\n",
    "    flats[col] = flats[col].astype('int32')"
   ]
  },
  {
   "cell_type": "markdown",
   "id": "7def61c6",
   "metadata": {},
   "source": [
    "Удостоверимся, что соответствующие колонки приняли тип int32:"
   ]
  },
  {
   "cell_type": "code",
   "execution_count": null,
   "id": "fb8e026d",
   "metadata": {},
   "outputs": [],
   "source": [
    "flats[['last_price', 'total_area', 'balcony', 'parks_around3000']].info()"
   ]
  },
  {
   "cell_type": "markdown",
   "id": "9e7c58cf",
   "metadata": {},
   "source": [
    "Вновь посмотрим на случайный срез данных:"
   ]
  },
  {
   "cell_type": "code",
   "execution_count": null,
   "id": "4a8aadea",
   "metadata": {},
   "outputs": [],
   "source": [
    "flats.sample(5)"
   ]
  },
  {
   "cell_type": "markdown",
   "id": "34fc3bec",
   "metadata": {},
   "source": [
    "Как видно, столбец 'first_day_exposition' для удобства работы с датами можем перевести в формат datetime64, заметив, к тому же, что необязательно включать  в этот столбец время, так как во всех записях оно равняется 00:00:00."
   ]
  },
  {
   "cell_type": "code",
   "execution_count": null,
   "id": "9d82d407",
   "metadata": {},
   "outputs": [],
   "source": [
    "flats['first_day_exposition'] = pd.to_datetime(flats['first_day_exposition'], format = '%Y-%m-%d')"
   ]
  },
  {
   "cell_type": "markdown",
   "id": "74bbfa15",
   "metadata": {},
   "source": [
    "Убедимся, что столбец перезаписан и теперь имеет необходимый нам тип:"
   ]
  },
  {
   "cell_type": "code",
   "execution_count": null,
   "id": "3f7d5cce",
   "metadata": {},
   "outputs": [],
   "source": [
    "flats['first_day_exposition'].dtype.name"
   ]
  },
  {
   "cell_type": "markdown",
   "id": "8281f65a",
   "metadata": {},
   "source": [
    "### 3. Устранение дубликатов"
   ]
  },
  {
   "cell_type": "markdown",
   "id": "2e1041f6",
   "metadata": {},
   "source": [
    "Рассмотрим уникальные значения в столбце, содержащем названия населенных пунктов, и устраним неявные дубликаты:"
   ]
  },
  {
   "cell_type": "code",
   "execution_count": null,
   "id": "435978c4",
   "metadata": {},
   "outputs": [],
   "source": [
    "flats['locality_name'].unique()"
   ]
  },
  {
   "cell_type": "markdown",
   "id": "56e6f894",
   "metadata": {},
   "source": [
    "Объем данных очень велик, посмотрим, с каким количеством записей имеем дело:"
   ]
  },
  {
   "cell_type": "code",
   "execution_count": null,
   "id": "17d57fa2",
   "metadata": {},
   "outputs": [],
   "source": [
    "len(flats['locality_name'].unique())"
   ]
  },
  {
   "cell_type": "markdown",
   "id": "e2c0471f",
   "metadata": {},
   "source": [
    "Постараемся как-то упростить свою работу с неявными дубликатами, так как искать их вручную - явно не самая практичная идея."
   ]
  },
  {
   "cell_type": "markdown",
   "id": "91bbcf89",
   "metadata": {},
   "source": [
    "Избавимся от характеристики населенного пункта, так, вместо 'поселок Володарское' будем писать просто 'Володарское' и т.п. Позволяет нам это сделать отсутсвие необходимости учитывать тип жилого образования в исследовании."
   ]
  },
  {
   "cell_type": "code",
   "execution_count": null,
   "id": "5e5529e3",
   "metadata": {},
   "outputs": [],
   "source": [
    "locality_types = (['поселок', 'посёлок', 'городского типа', 'городской', 'коттеджный', 'станции', \n",
    "                   'при железнодорожной', 'садовое товарищество', 'садоводческое некоммерческое товарищество', \n",
    "                   'деревня', 'село'])\n",
    "\n",
    "for i in range(len(flats['locality_name'])):\n",
    "    if pd.isna(flats.loc[i, 'locality_name']) != True:\n",
    "        for locality_type in locality_types:\n",
    "            if locality_type in flats.loc[i, 'locality_name']:\n",
    "                flats.loc[i, 'locality_name'] = flats.loc[i, 'locality_name'].replace(locality_type, '', 1)\n",
    "                flats.loc[i, 'locality_name'] = flats.loc[i, 'locality_name'].lstrip()#Удалим пропуски в начале строки"
   ]
  },
  {
   "cell_type": "markdown",
   "id": "bea9ca4e",
   "metadata": {},
   "source": [
    "В ходе работы вышенаписанного кода мы изменили название населенного пункта 'поселок Жилпосёлок' на 'Жил', исправим ситуацию:"
   ]
  },
  {
   "cell_type": "code",
   "execution_count": null,
   "id": "75fd7de8",
   "metadata": {},
   "outputs": [],
   "source": [
    "flats.loc[flats['locality_name'] == 'Жил', 'locality_name'] = 'Жилпосёлок'"
   ]
  },
  {
   "cell_type": "markdown",
   "id": "0bea2754",
   "metadata": {},
   "source": [
    "Посмотрим, насколько сократился список уникальных названий:"
   ]
  },
  {
   "cell_type": "code",
   "execution_count": null,
   "id": "d918173d",
   "metadata": {},
   "outputs": [],
   "source": [
    "len(flats['locality_name'].unique())"
   ]
  },
  {
   "cell_type": "markdown",
   "id": "e5d733d9",
   "metadata": {},
   "source": [
    "По итогу проведенной работы - сократили количество уникальных названий населенных пунктов на 59 вариативных именований."
   ]
  },
  {
   "cell_type": "markdown",
   "id": "d081a141",
   "metadata": {},
   "source": [
    "### 4. Обработка аномальных значений"
   ]
  },
  {
   "cell_type": "markdown",
   "id": "cf43b364",
   "metadata": {},
   "source": [
    "Ознакомимся с описанием числовых данных, перед чем уточним формат отображаемых данных. Ради простоты анализа не будем рассматривать никакие процентили, кроме медианы:"
   ]
  },
  {
   "cell_type": "code",
   "execution_count": null,
   "id": "4cb82c3e",
   "metadata": {},
   "outputs": [],
   "source": [
    "pd.options.display.float_format = '{:.2f}'.format\n",
    "flats.describe(percentiles=[.5])"
   ]
  },
  {
   "cell_type": "markdown",
   "id": "66e6f9d0",
   "metadata": {},
   "source": [
    "Необычные максимум и минимум в столбце 'last_price', рассмотрим соответствующие им строки:"
   ]
  },
  {
   "cell_type": "code",
   "execution_count": null,
   "id": "dd149796",
   "metadata": {},
   "outputs": [],
   "source": [
    "flats.query('last_price == last_price.min() or last_price == last_price.max()')"
   ]
  },
  {
   "cell_type": "markdown",
   "id": "eed2f6cd",
   "metadata": {},
   "source": [
    "Очень подозрительной кажется минимальная цена в столбце - стометровую квартиру вряд ли продали за 12 тысяч рублей. Посмотрим, насколько она отличается от ближайших по цене вариантов:"
   ]
  },
  {
   "cell_type": "code",
   "execution_count": null,
   "id": "13c2af8b",
   "metadata": {},
   "outputs": [],
   "source": [
    "flats['last_price'].sort_values().head(10)"
   ]
  },
  {
   "cell_type": "code",
   "execution_count": null,
   "id": "93ef54c6",
   "metadata": {},
   "outputs": [],
   "source": [
    "(flats\n",
    "    .query('last_price <= 470000')\n",
    "    .sort_values(by='last_price')\n",
    "    .head()\n",
    ")"
   ]
  },
  {
   "cell_type": "markdown",
   "id": "ed9093e6",
   "metadata": {},
   "source": [
    "Вполне ожидаемо, 4 ближайшие по цене квартиры обладают небольшой площадью и расположены в небольших населенных пунктах, что позволяет считать их цену адекватной рынку. Минимальная же по цене квартира парадоксальным образом расположена в Санк-Петербурге, имеет большой метраж, отличаясь от ближайшей по стоимости квартиры в 35 (!) раз."
   ]
  },
  {
   "cell_type": "markdown",
   "id": "5a55e317",
   "metadata": {},
   "source": [
    "Похоже на то, что цену квартиры указали в тысячах, если так, то эту аномалию легко исправить. Проверим, есть ли аналогичные по метражу, количеству комнат и локации квартиры, находящиеся в предполагаемом ценовом диапазоне:"
   ]
  },
  {
   "cell_type": "code",
   "execution_count": null,
   "id": "72647e90",
   "metadata": {},
   "outputs": [],
   "source": [
    "(flats\n",
    "    .query('last_price >= 11000000 and last_price <= 13000000 \\\n",
    "            and total_area >= 100 and total_area <= 120 \\\n",
    "            and locality_name == \"Санкт-Петербург\" \\\n",
    "            and rooms <= 2')\n",
    "    .sort_values(by='last_price')\n",
    "    .head()\n",
    ")"
   ]
  },
  {
   "cell_type": "markdown",
   "id": "75682203",
   "metadata": {},
   "source": [
    "Как видим, цена для данного сегмента квартир реалистичная, тогда отредактируем стоимость нашей аномально дешевой квартиры:"
   ]
  },
  {
   "cell_type": "code",
   "execution_count": null,
   "id": "8fbf1341",
   "metadata": {},
   "outputs": [],
   "source": [
    "flats.loc[flats['last_price'] == flats['last_price'].min(), 'last_price'] *= 1000"
   ]
  },
  {
   "cell_type": "markdown",
   "id": "f62959c1",
   "metadata": {},
   "source": [
    "Теперь посмотрим, как обстоят дела с соседями по цене у самой дорогой квартиры:"
   ]
  },
  {
   "cell_type": "code",
   "execution_count": null,
   "id": "3bdb862e",
   "metadata": {},
   "outputs": [],
   "source": [
    "flats['last_price'].sort_values(ascending=False).head()"
   ]
  },
  {
   "cell_type": "code",
   "execution_count": null,
   "id": "01c6a47d",
   "metadata": {},
   "outputs": [],
   "source": [
    "(flats\n",
    "    .query('last_price >= 190870000')\n",
    "    .sort_values(by='last_price', ascending=False)\n",
    "    .head()\n",
    ")"
   ]
  },
  {
   "cell_type": "markdown",
   "id": "0ada3c9f",
   "metadata": {},
   "source": [
    "От ближайшего соседа по цене наша квартира отличается почти в 2 раза, тем не менее, допустим, что цена указана верно: квартира, например, может располагаться в элитном жилом комплексе, идти вместе с личным машиноместом, иметь дорогой ремонт или индивидуальный дизайн."
   ]
  },
  {
   "cell_type": "markdown",
   "id": "f55f4196",
   "metadata": {},
   "source": [
    "Теперь обратим внимание на крайние значения в столбце 'ceiling_height', начнем с минимального:"
   ]
  },
  {
   "cell_type": "code",
   "execution_count": null,
   "id": "d3ea82a7",
   "metadata": {},
   "outputs": [],
   "source": [
    "flats['ceiling_height'].sort_values().head()"
   ]
  },
  {
   "cell_type": "markdown",
   "id": "0b60ad39",
   "metadata": {},
   "source": [
    "Высота потолков меньше двух метров кажется очень подозрительной - удалим такие квартиры из датафрейма:"
   ]
  },
  {
   "cell_type": "code",
   "execution_count": null,
   "id": "929aa81f",
   "metadata": {},
   "outputs": [],
   "source": [
    "flats = flats.query('ceiling_height >= 2 or ceiling_height.isna()')"
   ]
  },
  {
   "cell_type": "markdown",
   "id": "50f5aec3",
   "metadata": {},
   "source": [
    "Теперь посмотрим, каково положение дел с аномально большими значениями:"
   ]
  },
  {
   "cell_type": "code",
   "execution_count": null,
   "id": "525c1ffc",
   "metadata": {},
   "outputs": [],
   "source": [
    "flats['ceiling_height'].sort_values(ascending = False).head()"
   ]
  },
  {
   "cell_type": "markdown",
   "id": "d1fb5ba0",
   "metadata": {},
   "source": [
    "Представляется, что квартиру со 100-метровыми потолками стоит удалить из данных, а квартиры, превышающие 20-метровую высоту, отредактировать, разделив высоту на 10:"
   ]
  },
  {
   "cell_type": "code",
   "execution_count": null,
   "id": "2c9c9fcf",
   "metadata": {},
   "outputs": [],
   "source": [
    "flats.loc[flats['ceiling_height'] >= 20, 'ceiling_height'] /= 10"
   ]
  },
  {
   "cell_type": "code",
   "execution_count": null,
   "id": "5aefd54c",
   "metadata": {},
   "outputs": [],
   "source": [
    "flats = flats.query('ceiling_height != ceiling_height.max() or ceiling_height.isna()')"
   ]
  },
  {
   "cell_type": "markdown",
   "id": "85d07f52",
   "metadata": {},
   "source": [
    "Взглянем теперь на лидеров по высоте потолков:"
   ]
  },
  {
   "cell_type": "code",
   "execution_count": null,
   "id": "24283096",
   "metadata": {},
   "outputs": [],
   "source": [
    "flats.sort_values(by='ceiling_height', ascending=False).head()"
   ]
  },
  {
   "cell_type": "markdown",
   "id": "db6bc964",
   "metadata": {},
   "source": [
    "Квартиры с высотой потолков 8 и больше метров кажутся подозрительными - они сравнительно малы по площади, сложно преставить, что на рынке существуют, к примеру, однокомнатные квартиры площадью 30 метров с потолками высотой 10 метров. Ниже восьмиметрового порога квартиры выглядят более реалистично - это большие квартиры, для которых высокие потолки более характерны. Очистим наши данные от квартир выше 8 метров:"
   ]
  },
  {
   "cell_type": "code",
   "execution_count": null,
   "id": "ce592db4",
   "metadata": {},
   "outputs": [],
   "source": [
    "flats = flats.query('ceiling_height < 8 or ceiling_height.isna()')"
   ]
  },
  {
   "cell_type": "markdown",
   "id": "4b7b4eee",
   "metadata": {},
   "source": [
    "Обратим теперь внимание на максимальные значения в колонке 'floors_total':"
   ]
  },
  {
   "cell_type": "code",
   "execution_count": null,
   "id": "da3ecff4",
   "metadata": {},
   "outputs": [],
   "source": [
    "flats['floors_total'].sort_values(ascending=False).head()"
   ]
  },
  {
   "cell_type": "markdown",
   "id": "8c99049f",
   "metadata": {},
   "source": [
    "Насколько известно автору, в Петербурге и Ленинградской области нет жилых домой в 60 этажей, так же как и в 52 этажа. Удалим строки, содержащие 2 самых больших значения: "
   ]
  },
  {
   "cell_type": "code",
   "execution_count": null,
   "id": "09c68e1c",
   "metadata": {},
   "outputs": [],
   "source": [
    "flats = flats.query('floors_total < 52 or floors_total.isna()')"
   ]
  },
  {
   "cell_type": "markdown",
   "id": "6d3957f5",
   "metadata": {},
   "source": [
    "Заметим необычайно малое минимальное значение в столбце 'living_area', разберемся, что там происходит:"
   ]
  },
  {
   "cell_type": "code",
   "execution_count": null,
   "id": "76798742",
   "metadata": {},
   "outputs": [],
   "source": [
    "flats['living_area'].sort_values().head(15)"
   ]
  },
  {
   "cell_type": "markdown",
   "id": "a305331b",
   "metadata": {},
   "source": [
    "Автор находит нереалистично малой площадь жилого пространства, составляющую менее 9 метров, в связи с чем считает подозрительными соответствующие объявления. Удалим такие строки.<br>\n",
    "Возможно, эта осторожность излишня, но информация о жилой площади еще пригодится нам в исследовании, будем считать, что таким образом обходим риск получения недостоверных сведений в результате исследования."
   ]
  },
  {
   "cell_type": "code",
   "execution_count": null,
   "id": "833a9a49",
   "metadata": {},
   "outputs": [],
   "source": [
    "flats = flats.query('living_area >= 9 or living_area.isna()')"
   ]
  },
  {
   "cell_type": "markdown",
   "id": "5bce164d",
   "metadata": {},
   "source": [
    "Кажется не вполне соответствующим реальности количество объявлений с 4 и 5 балконами:"
   ]
  },
  {
   "cell_type": "code",
   "execution_count": null,
   "id": "fed538fc",
   "metadata": {},
   "outputs": [],
   "source": [
    "len(flats.query('balcony == 4'))#Количество объявлений с 4 балконами"
   ]
  },
  {
   "cell_type": "code",
   "execution_count": null,
   "id": "80360e49",
   "metadata": {},
   "outputs": [],
   "source": [
    "len(flats.query('balcony == 5'))#Количество объявлений с 5 балконами"
   ]
  },
  {
   "cell_type": "markdown",
   "id": "141f6d81",
   "metadata": {},
   "source": [
    "Кроме того, медианная площадь таких квартир невелика:"
   ]
  },
  {
   "cell_type": "code",
   "execution_count": null,
   "id": "a9c17e8e",
   "metadata": {},
   "outputs": [],
   "source": [
    "flats.query('balcony == 4')['total_area'].median()#Медианная площадь квартир с 4 балконами"
   ]
  },
  {
   "cell_type": "code",
   "execution_count": null,
   "id": "10f60780",
   "metadata": {},
   "outputs": [],
   "source": [
    "flats.query('balcony == 5')['total_area'].median()#Медианная площадь квартир с 5 балконами"
   ]
  },
  {
   "cell_type": "markdown",
   "id": "43bc27f5",
   "metadata": {},
   "source": [
    "Но, так как в следующих этапах нашего исследования эти характеристики квартир нам не понадобятся, не будем предпринимать никаких шагов."
   ]
  },
  {
   "cell_type": "markdown",
   "id": "e75b1487",
   "metadata": {},
   "source": [
    "Теперь удалим из столбца 'airports_nearest' строку со значением 0 - квартира не может находиться в аэропорте"
   ]
  },
  {
   "cell_type": "code",
   "execution_count": null,
   "id": "ef4b620a",
   "metadata": {},
   "outputs": [],
   "source": [
    "flats = flats.query('airports_nearest != 0 or airports_nearest.isna()')"
   ]
  },
  {
   "cell_type": "markdown",
   "id": "dfc97370",
   "metadata": {},
   "source": [
    "Обратимся к описанию нечисловых признаков:"
   ]
  },
  {
   "cell_type": "code",
   "execution_count": null,
   "id": "17904608",
   "metadata": {},
   "outputs": [],
   "source": [
    "flats.describe(include=['object', 'bool'])"
   ]
  },
  {
   "cell_type": "markdown",
   "id": "17f04237",
   "metadata": {},
   "source": [
    "Среди них подозрительных данных не наблюдается."
   ]
  },
  {
   "cell_type": "markdown",
   "id": "398cae2f",
   "metadata": {},
   "source": [
    "## 3. Пополнение датафрейма новыми столбцами"
   ]
  },
  {
   "cell_type": "markdown",
   "id": "e31cb5d9",
   "metadata": {},
   "source": [
    "Добавим в таблицу столбец 'price_per_meter', содержащий информацию о стоимости квадратного метра каждой квартиры:"
   ]
  },
  {
   "cell_type": "code",
   "execution_count": null,
   "id": "d9ab397c",
   "metadata": {},
   "outputs": [],
   "source": [
    "flats['price_per_meter'] = flats['last_price'] / flats['total_area']  "
   ]
  },
  {
   "cell_type": "markdown",
   "id": "c62ee435",
   "metadata": {},
   "source": [
    "Теперь добавим столбец 'weekday_exposition', сообщающий информацию о том, в какой день недели была сделана публикация:"
   ]
  },
  {
   "cell_type": "code",
   "execution_count": null,
   "id": "b974d363",
   "metadata": {},
   "outputs": [],
   "source": [
    "flats['weekday_exposition'] = flats['first_day_exposition'].dt.weekday"
   ]
  },
  {
   "cell_type": "markdown",
   "id": "27d6b1a3",
   "metadata": {},
   "source": [
    "Создадим также столбцы 'month_exposition' и 'year_exposition', хранящие информацию о месяце и годе публикации объявления соответственно:"
   ]
  },
  {
   "cell_type": "code",
   "execution_count": null,
   "id": "cff991c0",
   "metadata": {},
   "outputs": [],
   "source": [
    "flats['month_exposition'] = flats['first_day_exposition'].dt.month\n",
    "flats['year_exposition'] = flats['first_day_exposition'].dt.year"
   ]
  },
  {
   "cell_type": "markdown",
   "id": "9f041068",
   "metadata": {},
   "source": [
    "Добавим столбец 'floor_type', который разобьет этажи, на которых расположены квартиры, на типы \"первый\", \"последний\", \"другой\":"
   ]
  },
  {
   "cell_type": "code",
   "execution_count": null,
   "id": "e2b66d7e",
   "metadata": {},
   "outputs": [],
   "source": [
    "def categorize_floor(floor, top_floor):\n",
    "    if floor == 1:\n",
    "        return 'первый'\n",
    "    elif floor == top_floor:\n",
    "        return 'последний'\n",
    "    else:\n",
    "        return 'другой'"
   ]
  },
  {
   "cell_type": "code",
   "execution_count": null,
   "id": "694e55aa",
   "metadata": {},
   "outputs": [],
   "source": [
    "flats['floor_type'] = flats.apply(lambda x: categorize_floor(x.floor, x.floors_total), axis=1)"
   ]
  },
  {
   "cell_type": "markdown",
   "id": "49e4f5f5",
   "metadata": {},
   "source": [
    "Наконец создадим столбец 'cityCenters_nearest_km', содержащий расстояние до центра города в километрах."
   ]
  },
  {
   "cell_type": "code",
   "execution_count": null,
   "id": "7246824c",
   "metadata": {},
   "outputs": [],
   "source": [
    "flats['cityCenters_nearest_km'] = round(flats['cityCenters_nearest'] / 1000)"
   ]
  },
  {
   "cell_type": "markdown",
   "id": "af092c5a",
   "metadata": {},
   "source": [
    "## 4. Исследовательский анализ данных"
   ]
  },
  {
   "cell_type": "markdown",
   "id": "b0d64c41",
   "metadata": {},
   "source": [
    "### 1. Изучение некоторых характеристик данных"
   ]
  },
  {
   "cell_type": "markdown",
   "id": "d10ea3cf",
   "metadata": {},
   "source": [
    "С помощью построения гистограмм исследуем некоторые характеристики представленных в данных объектов (квартир). Для удобства оценки размаха данных под графиком будем выводить минимальноt и максимальное значения анализируемого столбца."
   ]
  },
  {
   "cell_type": "markdown",
   "id": "4509afb7",
   "metadata": {},
   "source": [
    "Начнем с такого параметра как 'total_area':"
   ]
  },
  {
   "cell_type": "code",
   "execution_count": null,
   "id": "a2b361d8",
   "metadata": {},
   "outputs": [],
   "source": [
    "fig = px.histogram(flats, x='total_area', title='Гистограмма общей площади', \n",
    "                   nbins=180, color_discrete_sequence=['indianred'])\n",
    "fig.show()"
   ]
  },
  {
   "cell_type": "code",
   "execution_count": null,
   "id": "1daf845f",
   "metadata": {},
   "outputs": [],
   "source": [
    "flats['total_area'].min(), flats['total_area'].max()"
   ]
  },
  {
   "cell_type": "markdown",
   "id": "00e8b0e9",
   "metadata": {},
   "source": [
    "Как видно по графику, чаще всего площади квартир в объявлениях составляют от 30 до 44 метров, имея разброс от 12 до 900 метров. Распределение не является нормальным - налицо асимметрия с положительным коэффициентом (график скошен вправо). Также налицо и выбросы, находящиеся в правом конце хвоста - это квартиры с большой площадью, являющиеся редкостью на рынке."
   ]
  },
  {
   "cell_type": "markdown",
   "id": "f6dea807",
   "metadata": {},
   "source": [
    "Построим теперь гистограмму для столбца 'living_area':"
   ]
  },
  {
   "cell_type": "code",
   "execution_count": null,
   "id": "e7fa8a4b",
   "metadata": {},
   "outputs": [],
   "source": [
    "fig = px.histogram(flats, x='living_area', title='Гистограмма жилой площади', \n",
    "                   nbins=180, color_discrete_sequence=['indianred'])\n",
    "fig.show()"
   ]
  },
  {
   "cell_type": "code",
   "execution_count": null,
   "id": "062b2745",
   "metadata": {},
   "outputs": [],
   "source": [
    "flats['living_area'].min(), flats['living_area'].max()"
   ]
  },
  {
   "cell_type": "markdown",
   "id": "e342f2d9",
   "metadata": {},
   "source": [
    "Как видим, график является мультимодальным, так как имеет три пика. Самые часто встречающиеся жилые площади в квартирах следующие - от 15 до 20 метров, от 30 до 35 метров и от 40 до 45 метров (интервалы указаны в порядке убывания частотности). По понятной причине размах так же, как и в случае с общей жилплощадью, весьма широк - от 9 до более чем 400  метров. В данном случае распределение так же не является нормальным - кроме мультимодальности имеем скос графика вправо. Выбросы на графике объясняются аналогичным предыдущему графику образом - ожидаемым образом, у больших квартир на рынке большие жилые пространства."
   ]
  },
  {
   "cell_type": "markdown",
   "id": "22f13a7e",
   "metadata": {},
   "source": [
    "Теперь проанализируем последний столбец, содержащий информацию о площади - 'kitchen_area':"
   ]
  },
  {
   "cell_type": "code",
   "execution_count": null,
   "id": "85fd92e8",
   "metadata": {},
   "outputs": [],
   "source": [
    "fig = px.histogram(flats, x='kitchen_area', title='Гистограмма кухонной площади', \n",
    "                   nbins=110, color_discrete_sequence=['indianred'])\n",
    "fig.show()"
   ]
  },
  {
   "cell_type": "code",
   "execution_count": null,
   "id": "00293ccf",
   "metadata": {},
   "outputs": [],
   "source": [
    "flats['kitchen_area'].min(), flats['kitchen_area'].max()"
   ]
  },
  {
   "cell_type": "markdown",
   "id": "f3c4b29c",
   "metadata": {},
   "source": [
    "Как видно на графике, самая часто встречающаяся площадь кухни - от 8 до 10 метров, а если брать более широкий интервал - от 6 до 12 метров. Ситуация с разбросом та же, что и на двух предыдущих графиках, характеризующих площади - минимальная площадь кухни составляет меньше полутора метров (1.3), максимальная - 112. Стоит заметить, что, в то время как разброс общей площади составляет 888 метров, а разброс жилой - 400.7, разброс кухонной площади равен 110.7 метрам, видим пропорциональное снижение (что неудивительно, так как жилая площадь и площадь кухни входят в общую площадь квартиры). Распределение напоминает нормальное, имеется небольшой скос графика вправо. Про выбросы было подробно сказано выше."
   ]
  },
  {
   "cell_type": "markdown",
   "id": "27002840",
   "metadata": {},
   "source": [
    "Рассмотрим теперь гистограмму по столбцу 'last_price', в котором располагается информация о цене объекта недвижимости:"
   ]
  },
  {
   "cell_type": "code",
   "execution_count": null,
   "id": "da32a0fe",
   "metadata": {},
   "outputs": [],
   "source": [
    "fig = px.histogram(flats, x='last_price', title='Гистограмма цены квартиры', \n",
    "                   color_discrete_sequence=['indianred'])\n",
    "fig.show()"
   ]
  },
  {
   "cell_type": "code",
   "execution_count": null,
   "id": "3ba5bbe5",
   "metadata": {},
   "outputs": [],
   "source": [
    "flats['last_price'].min(), flats['last_price'].max()"
   ]
  },
  {
   "cell_type": "markdown",
   "id": "75400e2f",
   "metadata": {},
   "source": [
    "Чтобы составить более детальное представление об основной части графика, ограничим размах значений по оси x: "
   ]
  },
  {
   "cell_type": "code",
   "execution_count": null,
   "id": "f3235478",
   "metadata": {},
   "outputs": [],
   "source": [
    "fig.update_xaxes(range=[0,20000000])"
   ]
  },
  {
   "cell_type": "markdown",
   "id": "f22aa8bc",
   "metadata": {},
   "source": [
    "Самый частотный интервал цен на квартиру - 3.5 - 4 миллиона, при чрезвычайно широком размахе в 762570000. При ограничении графика по оси абсцисс до значения в 20 миллионов становится видно, что распределение очень напоминает нормальное с небольшим положительным коэффициентом асимметрии. Выбросы на графике порождены наличием в датафрейме дорогих квартир, видимо, принадлежащих к сегменту элитной недвижимости или недвижимости бизнес-класса. "
   ]
  },
  {
   "cell_type": "markdown",
   "id": "0fe2d392",
   "metadata": {},
   "source": [
    "Построим гистограмму, отображающую частотную встречаемость того или иного количества комнат в квартирах из нашего набора данных, для этого нам понадобится столбец 'rooms':"
   ]
  },
  {
   "cell_type": "code",
   "execution_count": null,
   "id": "6b0046ac",
   "metadata": {},
   "outputs": [],
   "source": [
    "fig = px.histogram(flats, x='rooms', title='Гистограмма количества комнат', \n",
    "                   color_discrete_sequence=['indianred'])\n",
    "fig.show()"
   ]
  },
  {
   "cell_type": "code",
   "execution_count": null,
   "id": "e88c1731",
   "metadata": {},
   "outputs": [],
   "source": [
    "flats['rooms'].min(), flats['rooms'].max()"
   ]
  },
  {
   "cell_type": "markdown",
   "id": "9a16c5dd",
   "metadata": {},
   "source": [
    "Видим, что чаще всего появляются объявления о квартирах с 1 и 2 комнатами Наибольшее число комнат - 19, наименьшее - 0. Сразу скажем, что наличие квартир с нулевым числом комнат объясняется тем, что все эти квартиры либо обладают свободной планировкой, либо являются студиями, либо - аппартаментами, в чем легко убедиться:"
   ]
  },
  {
   "cell_type": "code",
   "execution_count": null,
   "id": "8928883d",
   "metadata": {},
   "outputs": [],
   "source": [
    "(len(flats.query('rooms == 0 and (is_apartment == True or studio == True or open_plan == True)')) == \n",
    " len(flats.query('rooms == 0')))"
   ]
  },
  {
   "cell_type": "markdown",
   "id": "e4394086",
   "metadata": {},
   "source": [
    "График демонстрирует нормальное распределение с несколькими выбросами со стороны его правого хвоста. Здесь дело опять в редко встречающихся в данных больших по площади и количеству комнат квартирах. "
   ]
  },
  {
   "cell_type": "markdown",
   "id": "59f9cffa",
   "metadata": {},
   "source": [
    "Обратимся теперь к столбцу 'ceiling_height':"
   ]
  },
  {
   "cell_type": "code",
   "execution_count": null,
   "id": "235f3ac4",
   "metadata": {},
   "outputs": [],
   "source": [
    "fig = px.histogram(flats, x='ceiling_height', title='Гистограмма высоты потолков', \n",
    "                   nbins=40, color_discrete_sequence=['indianred'])\n",
    "fig.show()"
   ]
  },
  {
   "cell_type": "code",
   "execution_count": null,
   "id": "f4c3995b",
   "metadata": {},
   "outputs": [],
   "source": [
    "flats['ceiling_height'].min(), flats['ceiling_height'].max()"
   ]
  },
  {
   "cell_type": "markdown",
   "id": "3482a083",
   "metadata": {},
   "source": [
    "Среди имеющихся в таблице квартир превалируют те, высота потолков которых находится в интервале 2.4 - 2.8 метров, сами значения высоты начинаются с 2 метров и доходят до 6. Распределение асимметричное, имеет скос вправо, что вполне объяснимо - стандартная высота потолков квартиры начинается с 2-3 метров, квартиры же с более высокими потолками как правило являются более редкими и дорогими, что объясняет и выбросы на графе. "
   ]
  },
  {
   "cell_type": "markdown",
   "id": "79e0ab83",
   "metadata": {},
   "source": [
    "Далее - построим гистограмму по столбцу 'floor', обозначающему этаж, на котором находится квартира:"
   ]
  },
  {
   "cell_type": "code",
   "execution_count": null,
   "id": "342cf758",
   "metadata": {},
   "outputs": [],
   "source": [
    "fig = px.histogram(flats, x='floor', title='Гистограмма этажа квартиры', \n",
    "                   nbins=40, color_discrete_sequence=['indianred'])\n",
    "fig.show()"
   ]
  },
  {
   "cell_type": "code",
   "execution_count": null,
   "id": "74308549",
   "metadata": {},
   "outputs": [],
   "source": [
    "flats['floor'].min(), flats['floor'].max()"
   ]
  },
  {
   "cell_type": "markdown",
   "id": "12cbb308",
   "metadata": {},
   "source": [
    "Как видим, чаще всего в наш датасет попадают объявления о продаже квартир на первых трех этажах. Самое частое - на втором, затем - на третьем и, наконец, - на первом этаже. Самый высокий же этаж, на котором предлагается купить квартиру, - 33. Снова наблюдается большой правосторонний скос графика."
   ]
  },
  {
   "cell_type": "markdown",
   "id": "16fe7365",
   "metadata": {},
   "source": [
    "Продолжаем исследовать информацию относительно этажей, на этот раз рассмотрим данные из колонки 'floor_type':"
   ]
  },
  {
   "cell_type": "code",
   "execution_count": null,
   "id": "c6a48f55",
   "metadata": {},
   "outputs": [],
   "source": [
    "fig = px.histogram(flats, x='floor_type', title='Гистограмма типа этажа квартиры', \n",
    "                   nbins=40, color_discrete_sequence=['indianred'])\n",
    "fig.show()"
   ]
  },
  {
   "cell_type": "markdown",
   "id": "dd45d9ff",
   "metadata": {},
   "source": [
    "Любопытным образом, квартир на первом этаже продается почти столько же, сколько и на последнем - 2913 и 3333 соответственно. Больше же всего (17426), понятное дело, продается квартир на промежуточных этажах."
   ]
  },
  {
   "cell_type": "markdown",
   "id": "66ff19de",
   "metadata": {},
   "source": [
    "И, завершая анализ информации об этажах, с помощью столбца 'floors_total' проведем обзор данных об этажности домов, в которых можно купить квартиру:"
   ]
  },
  {
   "cell_type": "code",
   "execution_count": null,
   "id": "84bfd2dc",
   "metadata": {},
   "outputs": [],
   "source": [
    "fig = px.histogram(flats, x='floors_total', title='Гистограмма этажности дома', \n",
    "                   nbins=40, color_discrete_sequence=['indianred'])\n",
    "fig.show()"
   ]
  },
  {
   "cell_type": "code",
   "execution_count": null,
   "id": "60e0a08b",
   "metadata": {},
   "outputs": [],
   "source": [
    "flats['floors_total'].min(), flats['floors_total'].max()"
   ]
  },
  {
   "cell_type": "markdown",
   "id": "16e5ab69",
   "metadata": {},
   "source": [
    "В данных представлены дома этажностью от 1 до 36, более всего - дома пятиэтажные и девятиэтажные. Наблюдаем мультимодальный график с пиками в значениях 5, 9, 16, 12 и 25. Именно такие пиковые значения неудивительны - они отображают количество этажей в типовых домах, превалирующих в городской застройке. "
   ]
  },
  {
   "cell_type": "markdown",
   "id": "c26c2dc8",
   "metadata": {},
   "source": [
    "Дальше поработаем с расстояниями и начнем с расстояния до центра города в метрах, информация о котором содержится в колонке 'cityCenters_nearest'"
   ]
  },
  {
   "cell_type": "code",
   "execution_count": null,
   "id": "7207f1f2",
   "metadata": {},
   "outputs": [],
   "source": [
    "fig = px.histogram(flats, x='cityCenters_nearest', title='Гистограмма расстояния до центра города', \n",
    "                   color_discrete_sequence=['indianred'])\n",
    "fig.show()"
   ]
  },
  {
   "cell_type": "code",
   "execution_count": null,
   "id": "7ba5f8e4",
   "metadata": {},
   "outputs": [],
   "source": [
    "flats['cityCenters_nearest'].min(), flats['cityCenters_nearest'].max()"
   ]
  },
  {
   "cell_type": "markdown",
   "id": "8cc158c9",
   "metadata": {},
   "source": [
    "Видим, что как правило квартиры из объявлений в наших данных располагаются от центра на 14.5 - 15 километров, и на 12 - 12.5 километров (два наивысших пика на графике). Имеются квартиры очень близкие (181 метр) к центру и сильно удаленные (66 километров) от него, они составляют размах наших данных. График мультимодален - можем проследить 5-7 вполне отчетливых пиков. Также имеется скос вправо, содержащий 2-3 собственных пика. Как можно понять, график весьма необычный и отличается от предыдущих. Выбросы представляют из себя квартиры, расположенные в большом удалении от центра."
   ]
  },
  {
   "cell_type": "markdown",
   "id": "30310932",
   "metadata": {},
   "source": [
    "Теперь посмотрим на гистограмму, составленную по столбцу 'airports_nearest':"
   ]
  },
  {
   "cell_type": "code",
   "execution_count": null,
   "id": "f663f362",
   "metadata": {},
   "outputs": [],
   "source": [
    "fig = px.histogram(flats, x='airports_nearest', title='Гистограмма расстояния до ближайшего аэропорта', \n",
    "                   color_discrete_sequence=['indianred'])\n",
    "fig.show()"
   ]
  },
  {
   "cell_type": "code",
   "execution_count": null,
   "id": "427806eb",
   "metadata": {},
   "outputs": [],
   "source": [
    "flats['airports_nearest'].min(), flats['airports_nearest'].max()"
   ]
  },
  {
   "cell_type": "markdown",
   "id": "50e7068d",
   "metadata": {},
   "source": [
    "Самое часто встречающееся расстояние до аэропорта - от 18.5 до 19 километров. Кроме того, часто встречаются такие интервалы расстояний как 24.5-25, 12.5-22. Разброс данных - от 6 километров до 85. График снова мультимодален (даже при манипуляциях с количеством bins), значения трех самых высоких пиков были перечислены ранее. Возможно, такая неоднородность данных может объясняться разным характером населенных пунктов, представленных в данных. Предположим, от Петербурга и крупных городов Ленинградской области до аэропорта добираться очевидно ближе, чем от отдаленных поселков, деревень и садовых товариществ, которые представлены в данных в большом количестве, создавая свои уплотнения и пики на графике. "
   ]
  },
  {
   "cell_type": "markdown",
   "id": "33380f60",
   "metadata": {},
   "source": [
    "Наконец, взглянем на последнюю из гистограмм, описывающих отношения расстояния. А именно - расстояния до ближайшего парка, для чего нам понадобится столбец 'parks_nearest': "
   ]
  },
  {
   "cell_type": "code",
   "execution_count": null,
   "id": "00690fc3",
   "metadata": {},
   "outputs": [],
   "source": [
    "fig = px.histogram(flats, x='parks_nearest', title='Гистограмма расстояния до ближайшего парка', \n",
    "                   nbins=100, color_discrete_sequence=['indianred'])\n",
    "fig.show()"
   ]
  },
  {
   "cell_type": "code",
   "execution_count": null,
   "id": "cc7e4d8f",
   "metadata": {},
   "outputs": [],
   "source": [
    "flats['parks_nearest'].min(), flats['parks_nearest'].max()"
   ]
  },
  {
   "cell_type": "markdown",
   "id": "e003f59f",
   "metadata": {},
   "source": [
    "Как правило, до ближайшего парка от квартиры добираться 350-500 метров, а само расстояние в данных растягивается от 1 до 3190 метров. На графике представлено нормальное распределение с длинным правым хвостом, на котором расположились расстояния, большие 800 метров. Отметим, что этот график едва ли не больше всех остальных напоминает график нормального распределения: отсутствует сильный и резкий скос, наличествует один очевидный пик, относительно которого график (не считая правого хвоста) симметричен. "
   ]
  },
  {
   "cell_type": "markdown",
   "id": "eee11192",
   "metadata": {},
   "source": [
    "И, напоследок, построим две гистограммы, говорящие нам о временном признаке наших данных - о дне ('weekday_exposition') и месяце ('month_exposition') публикации объявления:"
   ]
  },
  {
   "cell_type": "code",
   "execution_count": null,
   "id": "e4938f67",
   "metadata": {},
   "outputs": [],
   "source": [
    "fig = px.histogram(flats, x='weekday_exposition', title='Гистограмма дня недели публикации объявления', \n",
    "                   color_discrete_sequence=['indianred'])\n",
    "fig.show()"
   ]
  },
  {
   "cell_type": "markdown",
   "id": "25d9a7da",
   "metadata": {},
   "source": [
    "При взгляде на график сразу бросаетсся в глаза спад количества объявлений, опубликованных в выходные. Чаще же всего их публикуют в четверг и вторник. Вероятно, выходные рассматриваются людьми как отдых в том числе и от проведения операций с недвижимостью, для него выбирается начало и конец рабочей недели. Из будних же дней самый нечастный для формирования объявления о продаже квартиры - понедельник. "
   ]
  },
  {
   "cell_type": "code",
   "execution_count": null,
   "id": "ebdc3485",
   "metadata": {},
   "outputs": [],
   "source": [
    "fig = px.histogram(flats, x='month_exposition', title='Гистограмма месяца публикации объявления', \n",
    "                   color_discrete_sequence=['indianred'])\n",
    "fig.show()"
   ]
  },
  {
   "cell_type": "markdown",
   "id": "cf415a24",
   "metadata": {},
   "source": [
    "В этом же случае очевидный пик для выставления квартиры на продажу - последний зимний (февраль) и два первых весенних (март и апрель) месяца. Меньше же всего это происходит в декабре, январе и мае - напрашивается предположение о том, что это связано с особой \"праздничностью\" этих месяцев. Летом публикационная активность поддерживается на среднем уровне, осенью постепенно поднимаясь на высокий (сравнимый с апрельским) уровень, зафиксированный в ноябре."
   ]
  },
  {
   "cell_type": "markdown",
   "id": "e472d775",
   "metadata": {},
   "source": [
    "### 2. Изучение скорости продажи квартир "
   ]
  },
  {
   "cell_type": "markdown",
   "id": "be3ff3e9",
   "metadata": {},
   "source": [
    "Построим гистограмму по столбцу 'days_exposition' и по нему же найдем среднее арифметическое и медиану:"
   ]
  },
  {
   "cell_type": "code",
   "execution_count": null,
   "id": "b327bec6",
   "metadata": {},
   "outputs": [],
   "source": [
    "fig = px.histogram(flats, x='days_exposition', title='Гистограмма скорости продаж', \n",
    "                   nbins=150, color_discrete_sequence=['indianred'])\n",
    "fig.show()"
   ]
  },
  {
   "cell_type": "code",
   "execution_count": null,
   "id": "2a9873b0",
   "metadata": {},
   "outputs": [],
   "source": [
    "flats['days_exposition'].min(), flats['days_exposition'].max()"
   ]
  },
  {
   "cell_type": "code",
   "execution_count": null,
   "id": "5005f7cd",
   "metadata": {},
   "outputs": [],
   "source": [
    "flats['days_exposition'].mean()#Среднее арифметическое"
   ]
  },
  {
   "cell_type": "code",
   "execution_count": null,
   "id": "7d50098c",
   "metadata": {},
   "outputs": [],
   "source": [
    "flats['days_exposition'].median()#Медиана"
   ]
  },
  {
   "cell_type": "markdown",
   "id": "4f22804a",
   "metadata": {},
   "source": [
    "Как это следует из графика, чаще всего квартира продается за 30-50 дней, при том, что медианное значение равно 95 дням. Рекордно быстрая продажа заняла 1 день, долгая - больше 4 лет (1580 дней). Распределение нормальное с ощутимым положительным коэффициентом асимметрии и значительным количеством долгих сроков продаж, влияние которых можем видеть по среднему арифметическому, которое они \"подняли\" почти в 2 раза выше медианы (которая устойчива к такого рода выбросам). Продажи дольше 200 дней уже достаточно редки, после 600 дней становясь еще реже. "
   ]
  },
  {
   "cell_type": "markdown",
   "id": "b13f8909",
   "metadata": {},
   "source": [
    "### 3. Поик влияния некоторых факторов на цену квартиры"
   ]
  },
  {
   "cell_type": "markdown",
   "id": "2601b76e",
   "metadata": {},
   "source": [
    "Построим диаграммы рассеяния для цены квартиры и некоторых выбранных параметров с целью проследить возможную взаимосвязь и влияние этих параметров на цену. Для аппроксимации точечных значений нашего графика воспользуемся обычным методом наименьших квадратов (ordinary least squares). Кроме того, помимо графика будем выводить и коэффициент корреляции Пирсона."
   ]
  },
  {
   "cell_type": "markdown",
   "id": "2b61eff6",
   "metadata": {},
   "source": [
    "Как это будет видно, на графиках могут наблюдаться области уплотнения точек, что может затруднять зрительный анализ. Решение оставить графики в таком виде обосновано следующими соображениями - во-первых, вспомогательное использование аргумента trendline со значением 'ols' поможет упростить понимание \"направленности\" данных, во-вторых, вывод коэффициента корреляции также помогает удостовериться в правильности зрительного анализа, в-третьих, средства библиотеки Plotly позволяют вручную приблизить интересующий регион графика (инструмент 'Zoom'), к примеру, в районе скученности точек, и исследовать его более детально, наконец, в-четвертых - неудовлетворительность использования метода plot() библиотеки pandas, примеры которого будут даны ниже. Заметим, что манипуляции с аргументами метода никак ситуацию не улучшают (это заинтересованный читатель может проверить самостоятельно)."
   ]
  },
  {
   "cell_type": "markdown",
   "id": "d62b39ce",
   "metadata": {},
   "source": [
    "Первой характеристикой, влияние которой на цену ('last_price') мы проследим, будет общая площадь квартиры - 'total_area'."
   ]
  },
  {
   "cell_type": "code",
   "execution_count": null,
   "id": "632a184c",
   "metadata": {},
   "outputs": [],
   "source": [
    "fig = px.scatter(flats, x='total_area', y='last_price', trendline='ols', \n",
    "                 title='Влияние общей площади на стоимость объекта')\n",
    "fig.show()"
   ]
  },
  {
   "cell_type": "code",
   "execution_count": null,
   "id": "a5fd717c",
   "metadata": {},
   "outputs": [],
   "source": [
    "flats['total_area'].corr(flats['last_price'])"
   ]
  },
  {
   "cell_type": "markdown",
   "id": "ed6185be",
   "metadata": {},
   "source": [
    "Как видим, график демонстрирует умеренную положительную связь между площадью квартиры и ее ценой - зависимость, о наличии которой свидетельствует также здравый смысл и опыт взаимодействия с рынком недвижимости (простая идея - чем квартира больше - тем она дороже)."
   ]
  },
  {
   "cell_type": "markdown",
   "id": "e0d7e7e9",
   "metadata": {},
   "source": [
    "Ниже приведем графики тех же двух переменных, созданные методом plot(). В первом из них область сильного уплотнения сохраняется независимо от значения аргумента alpha, при том он лишается преимуществ графика, построенного с помощью plotly (отсутствует возможность приближения/отдаления частей графика, при наведении на его точки мы не видим о них никакой информации). Во втором же сразу бросается в глаза его низкая информативность, независящая от значения аргумента gridsize - график предоставляет для анализа слишком мало шестиугольных ячеек. "
   ]
  },
  {
   "cell_type": "code",
   "execution_count": null,
   "id": "58ad3316",
   "metadata": {},
   "outputs": [],
   "source": [
    "flats.plot(x='total_area', y='last_price', kind='scatter', alpha=0.15, figsize=(15,10))"
   ]
  },
  {
   "cell_type": "code",
   "execution_count": null,
   "id": "c547c46c",
   "metadata": {},
   "outputs": [],
   "source": [
    "flats.plot(x='total_area', y='last_price', kind='hexbin', gridsize=35, sharex=False, grid=True, figsize=(15,10))\n"
   ]
  },
  {
   "cell_type": "markdown",
   "id": "f55d7ebc",
   "metadata": {},
   "source": [
    "Итак, будем и дальше пользоваться для построения диаграмм рассеяния средствами библиотеки Plotly. На этот раз изучим влияние на цену жилой площади ('living_area')"
   ]
  },
  {
   "cell_type": "code",
   "execution_count": null,
   "id": "3f909ab5",
   "metadata": {},
   "outputs": [],
   "source": [
    "fig = px.scatter(flats, x='living_area', y='last_price', trendline='ols', \n",
    "                 title='Влияние жилой площади на стоимость объекта')\n",
    "fig.show()"
   ]
  },
  {
   "cell_type": "code",
   "execution_count": null,
   "id": "f5ed68b2",
   "metadata": {},
   "outputs": [],
   "source": [
    "flats['living_area'].corr(flats['last_price'])"
   ]
  },
  {
   "cell_type": "markdown",
   "id": "968afdc3",
   "metadata": {},
   "source": [
    "Сразу скажем, что положительная зависимость в этом случае и в случае с параметром площади кухни ожидаемым образом напоминает случай с общей площадью, действует правило \"если больше общая площадь квартиры, то и ее жилая и кухонная площади будут больше\" (при том, что кухонная площадь чаще всего увеличивается медленнее жилой), которое подтвердим, запросив соответствующие корреляции:"
   ]
  },
  {
   "cell_type": "code",
   "execution_count": null,
   "id": "a5001dae",
   "metadata": {},
   "outputs": [],
   "source": [
    "flats['living_area'].corr(flats['total_area']), flats['kitchen_area'].corr(flats['total_area'])"
   ]
  },
  {
   "cell_type": "markdown",
   "id": "d4af9332",
   "metadata": {},
   "source": [
    "Теперь взглянем и на зависимость цены от площади кухни ('kitchen_area'):"
   ]
  },
  {
   "cell_type": "code",
   "execution_count": null,
   "id": "f40c0b96",
   "metadata": {},
   "outputs": [],
   "source": [
    "fig = px.scatter(flats, x='kitchen_area', y='last_price', trendline='ols', \n",
    "                 title='Влияние кухонной площади на стоимость объекта')\n",
    "fig.show()"
   ]
  },
  {
   "cell_type": "code",
   "execution_count": null,
   "id": "5fd3601c",
   "metadata": {},
   "outputs": [],
   "source": [
    "flats['kitchen_area'].corr(flats['last_price'])"
   ]
  },
  {
   "cell_type": "markdown",
   "id": "53200e69",
   "metadata": {},
   "source": [
    "Заметим два момента, характерных для всех трех случаев исследования зависимости цены от площади той или иной части объекта."
   ]
  },
  {
   "cell_type": "markdown",
   "id": "c6f84870",
   "metadata": {},
   "source": [
    "Во-первых, выбросы на этих трех графиках означают собой те квартиры, площади которых (общей, жилой или кухонной) соответствует нехарактерно высокая цена. "
   ]
  },
  {
   "cell_type": "markdown",
   "id": "8643bd28",
   "metadata": {},
   "source": [
    "Во-вторых, обратим внимание на интересную структуру расположения точек в зонах скученности, для примера которой используем приближенный фрагмент последнего графика:"
   ]
  },
  {
   "cell_type": "code",
   "execution_count": null,
   "id": "208deb23",
   "metadata": {},
   "outputs": [],
   "source": [
    "fig.update_xaxes(range=[9.9,10.6])\n",
    "fig.update_yaxes(range=[0,15000000])"
   ]
  },
  {
   "cell_type": "markdown",
   "id": "6a874a34",
   "metadata": {},
   "source": [
    "Видим, что точки плотно располагаются друг над другом в абсциссах, значение которых соответствует значению площади кухни. Действительно, площадь кухни скорее примет значение 10 или 10.2, чем 10.17 или 10.02. Это можно объяснить округлением значений при замере площади квартиры до более удобных и простых для восприятия."
   ]
  },
  {
   "cell_type": "markdown",
   "id": "05017b18",
   "metadata": {},
   "source": [
    "Теперь же исследуем влияние на цену количества комнат 'rooms':"
   ]
  },
  {
   "cell_type": "code",
   "execution_count": null,
   "id": "3ca61697",
   "metadata": {},
   "outputs": [],
   "source": [
    "fig = px.scatter(flats, x='rooms', y='last_price', trendline='ols', \n",
    "                 title='Влияние количества комнат на стоимость объекта')\n",
    "fig.show()"
   ]
  },
  {
   "cell_type": "code",
   "execution_count": null,
   "id": "cf29c8af",
   "metadata": {},
   "outputs": [],
   "source": [
    "flats['rooms'].corr(flats['last_price'])"
   ]
  },
  {
   "cell_type": "markdown",
   "id": "d10afa88",
   "metadata": {},
   "source": [
    "Зависимость на этом графике не так очевидна, если не пользоваться приближенным значением и коэффициентом корреляции. Ситуация становится проще, если с помощью приближения отдельных фрагментов заметить, что в вертикальных скоплениях точек сильнее всего уплотнение наблюдается к низу \"столбцов\", что частично видно и на общем плане графика. Заключим, что зависимость цены от количества комнат весьма мала. Пока что видим, что площадь (причем любая) влияет на цену ощутимо сильнее."
   ]
  },
  {
   "cell_type": "markdown",
   "id": "981aab5f",
   "metadata": {},
   "source": [
    "А сейчас рассмотрим влияния типа этажа ('floor_type') на цену всего объекта:"
   ]
  },
  {
   "cell_type": "code",
   "execution_count": null,
   "id": "49eb1479",
   "metadata": {},
   "outputs": [],
   "source": [
    "fig = px.scatter(flats, x='floor_type', y='last_price', \n",
    "                 title='Влияние типа этажа на стоимость объекта')\n",
    "fig.show()"
   ]
  },
  {
   "cell_type": "markdown",
   "id": "ef124c46",
   "metadata": {},
   "source": [
    "Как видим, в этом случае провести анализ по графику будет довольно сложно. Попробуем воспользоваться другими способами:"
   ]
  },
  {
   "cell_type": "code",
   "execution_count": null,
   "id": "6401434e",
   "metadata": {},
   "outputs": [],
   "source": [
    "price_floor_data = flats.pivot_table(values='last_price', index='floor_type', aggfunc=['median', 'mean', 'count', 'min', 'max'])\n",
    "price_floor_data.columns = ['price_median', 'price_mean', 'price_count', 'price_min', 'price_max']\n",
    "price_floor_data"
   ]
  },
  {
   "cell_type": "markdown",
   "id": "2de7030f",
   "metadata": {},
   "source": [
    "Видим, что, как правило, дороже всего стоят квартиры между первым и последним, следом идут квартиры, находящиеся на последнем этаже дома, а самые дешевые - те, что располагаются на первом. "
   ]
  },
  {
   "cell_type": "markdown",
   "id": "78180aa6",
   "metadata": {},
   "source": [
    "Попробуем еще один способ проследить зависимость. Определим функцию categorize_floor_numeric, с помощью которой сопоставим первому этажу 0, последнему - 1, а промежуточным этажам - их отношение с общим количеством этажей (таким образом, они займут место между 0 и 1 настолько близко к 1, насколько они близки к последнему этажу). Создадим столбец 'floor_type_numeric', в которой расположим результаты применения функции к строкам нашего датафрейма.<br>\n",
    "(Вместо отношения конкретного этажа к максимальному могли просто возвращать 0.5, что на коэффициент корреляции сильно не повлияло бы, что легко может проверить интересующийся читатель)"
   ]
  },
  {
   "cell_type": "code",
   "execution_count": null,
   "id": "d47e38b2",
   "metadata": {},
   "outputs": [],
   "source": [
    "def categorize_floor_numeric(floor, top_floor):\n",
    "    if floor == 1:\n",
    "        return 0\n",
    "    elif floor == top_floor:\n",
    "        return 1\n",
    "    else:\n",
    "        return floor / top_floor"
   ]
  },
  {
   "cell_type": "code",
   "execution_count": null,
   "id": "e60c3e73",
   "metadata": {},
   "outputs": [],
   "source": [
    "flats['floor_type_numeric'] = flats.apply(lambda x: categorize_floor_numeric(x.floor, x.floors_total), axis=1)"
   ]
  },
  {
   "cell_type": "markdown",
   "id": "842ca1c8",
   "metadata": {},
   "source": [
    "Теперь взглянем на зависимости уже нового столбца и цены:"
   ]
  },
  {
   "cell_type": "code",
   "execution_count": null,
   "id": "37f31d46",
   "metadata": {},
   "outputs": [],
   "source": [
    "fig = px.scatter(flats, x='floor_type_numeric', y='last_price', trendline='ols', \n",
    "                 title='Влияние типа этажа (выраженного на интервале [0,1]) на стоимость объекта')\n",
    "fig.show()"
   ]
  },
  {
   "cell_type": "code",
   "execution_count": null,
   "id": "f06aa19f",
   "metadata": {},
   "outputs": [],
   "source": [
    "flats['floor_type_numeric'].corr(flats['last_price'])"
   ]
  },
  {
   "cell_type": "markdown",
   "id": "d906922a",
   "metadata": {},
   "source": [
    "Что же, теперь можем с уверенностью судить об отсутствии взаимосвязи между этими двумя параметрами."
   ]
  },
  {
   "cell_type": "markdown",
   "id": "0e70601d",
   "metadata": {},
   "source": [
    "Теперь проверим влияние даты размещения на цену объекта, будем использовать информацию о дне недели, месяце и годе размещения объявления. Кроме того, составим еще таблицы с такими параметрами как медиана, среднее, число записей, минимум и максимум. "
   ]
  },
  {
   "cell_type": "code",
   "execution_count": null,
   "id": "7e7b0486",
   "metadata": {},
   "outputs": [],
   "source": [
    "fig = px.scatter(flats, x='weekday_exposition', y='last_price', trendline='ols', \n",
    "                 title='Влияние дня недели размещения объявления на стоимость объекта')\n",
    "fig.show()"
   ]
  },
  {
   "cell_type": "code",
   "execution_count": null,
   "id": "02b02ba2",
   "metadata": {},
   "outputs": [],
   "source": [
    "fig = px.scatter(flats, x='month_exposition', y='last_price', trendline='ols', \n",
    "                 title='Влияние месяца размещения объявления на стоимость объекта')\n",
    "fig.show()"
   ]
  },
  {
   "cell_type": "code",
   "execution_count": null,
   "id": "70c4f077",
   "metadata": {},
   "outputs": [],
   "source": [
    "fig = px.scatter(flats, x='year_exposition', y='last_price', trendline='ols', \n",
    "                 title='Влияние года размещения объявления на стоимость объекта')\n",
    "fig.show()"
   ]
  },
  {
   "cell_type": "markdown",
   "id": "c4b1506e",
   "metadata": {},
   "source": [
    "Во всех случаях можем видеть отсутствие влияния даты размещения объявления на стоимость объекта недвижимости. "
   ]
  },
  {
   "cell_type": "markdown",
   "id": "e9b67a8b",
   "metadata": {},
   "source": [
    "### 4. Расчет средней цены квадратного метра в топ-10 населенных пунктов по количеству объявлений"
   ]
  },
  {
   "cell_type": "markdown",
   "id": "30689d2e",
   "metadata": {},
   "source": [
    "Создадим таблицу с информацией о 10 самых популярных среди продавцов населенных пунктах, в ней отобразим количество объявлений о квартирах, находящихся в этой локации и медианную и среднюю цену за квадратный метр в этой локации:"
   ]
  },
  {
   "cell_type": "code",
   "execution_count": null,
   "id": "0ad650ed",
   "metadata": {},
   "outputs": [],
   "source": [
    "localities_price_per_meter = (flats\n",
    "                                   .pivot_table(values='price_per_meter', index='locality_name', \n",
    "                                                aggfunc=['count', 'median', 'mean']))\n",
    "\n",
    "localities_price_per_meter.columns = ['count', 'median_price_per_meter', 'mean_price_per_meter']\n",
    "\n",
    "top_localities = (localities_price_per_meter\n",
    "                  .sort_values(by='count', ascending=False)\n",
    "                  .head(10))\n",
    "top_localities"
   ]
  },
  {
   "cell_type": "markdown",
   "id": "74518e2e",
   "metadata": {},
   "source": [
    "Как можем видеть, дороже всего метр жилой недвижимости стоит в Санкт-Петербурге, а дешевле всего - в Выборге. "
   ]
  },
  {
   "cell_type": "markdown",
   "id": "ede09b33",
   "metadata": {},
   "source": [
    "### 5.  Определение цены каждого километра до центра Санкт-Петербурга"
   ]
  },
  {
   "cell_type": "markdown",
   "id": "9c936935",
   "metadata": {},
   "source": [
    "Итак, посмотрим, какова средняя цена для каждого километра удаления от центра города:"
   ]
  },
  {
   "cell_type": "code",
   "execution_count": null,
   "id": "1d6fefbf",
   "metadata": {},
   "outputs": [],
   "source": [
    "spb_price_per_km = flats.pivot_table(values='last_price', index='cityCenters_nearest_km')\n",
    "spb_price_per_km.columns = ['mean_price']\n",
    "spb_price_per_km"
   ]
  },
  {
   "cell_type": "markdown",
   "id": "6fbe42df",
   "metadata": {},
   "source": [
    "Проанализируем получившуюся таблицу с помощью графика:"
   ]
  },
  {
   "cell_type": "code",
   "execution_count": null,
   "id": "49bee8fc",
   "metadata": {},
   "outputs": [],
   "source": [
    "fig = px.line(spb_price_per_km, x=spb_price_per_km.index, y='mean_price', markers=True)\n",
    "fig.show()"
   ]
  },
  {
   "cell_type": "markdown",
   "id": "e2a3e616",
   "metadata": {},
   "source": [
    "На графике видим стремительное падение средней цены квартиры при увеличении расстояния от центра с 0 до 9 километров (с 31.4 до 7 миллионов). Затем при расстоянии от центра с 9 до 42 километров цена постепенно снижается с 7 до 3.1 миллионов, внезапно прыгая до 11.5 миллионов на 43 километре, и снова снижаясь к 5.1 миллионам на 45 километре, где идет постепенное снижение до 3.4 миллионов на 52 километре. Затем идет стремительный рост до 9 миллионов на 55 километре с еще более стремительным падением до 3 миллионов на 57 километре, после чего график ведет себя несколько более спокойно, вырастая до 4 миллионов на 66 километре с локальным пиком в 4,3 миллиона на 59 километре."
   ]
  },
  {
   "cell_type": "markdown",
   "id": "c121f59d",
   "metadata": {},
   "source": [
    "## 5. Общий вывод"
   ]
  },
  {
   "cell_type": "markdown",
   "id": "6dd471e4",
   "metadata": {},
   "source": [
    "В ходе исследования придерживались следующей траектории работы:\n",
    "1. Предобработка загруженных данных<br>\n",
    "На этом шаге мы исправляли некоторые недостатки в имеющихся данных. *Изучение пропусков* позволило разобраться в логике составления датафрейма, были выдвинуты некоторые гипотезы, объясняющие наличие пропусков в нескольких столбцах, в соответствие с этими гипотезами пропуски были заполнены. В тех же ячейках, где предложить логичный вариант ликвидации пропусков не удалось, - пропущенные значение оставили на месте. После этого была проведена *работа с типами данных* - были предложены более подходящие типы данных для некоторых столбцов, кроме того было пояснено ограничение, мешающее изменить тип данных в нескольких числовых столбцах на более удобный. Кроме того, важной частью этого этапа работы было *избавление от неявных дубликатов*, с помощью которого было уточнено несколько десятков названий населенных пунктов. Завершила этап предобработки *обработка аномальных значений*, где, снова, с помощью выдвижения некоторых гипотез и внедрения в логику составления датафрейма были уточнены выбивающиеся из общего ряда, нереалистичные и кажущиеся автору подозрительными значения.<br>\n",
    "<br>\n",
    "2. Добавление в таблицу новых столбцов<br>\n",
    "Этот этап был непосредственной подготовкой к следующему - в наборе данных создали столбцы, выражающие характеристики объектов, которые были необходимы для проведения анализа.<br>\n",
    "<br>\n",
    "3. Проведение исследовательского анализа данных<br>\n",
    "В течение этого этапа работы были проведены следующие аналитические действия:\n",
    "    1. С помощью гистограмм проанализировали набор характеристик объектов<br>\n",
    "    Этот шаг позволил нам сделать некоторые ценные замечания. Для начала, наши **данные обладают большим количеством выбросов**, как правило представляющих из себя уникальные квартиры - дорогие, большие по площади, с высокими потолками и большим количеством комнат. Значительное количество нестандартных значений объясняет тот факт, что **большая часть графиков демонстрирует положительный коэффициент асимметрии распределения**, что видно по скосу этих графиков в право, наличию на них длинного правого хвоста. Кроме того, **некоторые графики проявили свойство мультимодальности** по-разному объясняемые для каждого случая. Наконец, анализ позволил заметить, что **гистограммы демонстрируют интересные закономерности в дне недели и месяце публикации объявлений**.\n",
    "    2. Был проведен анализ скорости продажи квартир<br>\n",
    "    Анализ показал, что **чаще всего квартиры продаются в течение 2 месяцев**, при том, что **медианное значение срока продажи составляет 95 дней, а среднее арифметическое - 180**, что снова подчеркивает, что **влияние выбросов на среднее значение очень велико**. \n",
    "    3. Используя диаграммы рассеяния было проведено исследование о факторах, влияющих на цену квартиры<br>\n",
    "    Выяснилось, что **сильнее всего прослеживается связь между ценой квартиры и ее площадью**, причем **на цену влияет как общая площадь квартиры, так и ее жилая и кухонная площади**. Здесь же выяснили, что **дата подачи объявления о продаже квартиры никак с ее ценой не коррелирует**.\n",
    "    4. Был произведен расчет средней цены квадратного метра в городах-лидерах по количеству объявлений<br>\n",
    "    В итоге было найдено, что **больше всего квадратный метр жилья стоит в Санкт-Петербурге, а меньше всего - в Выборге**, а **количество объявлений о продаже квартир в Петербурге превышает это количество в следующих за ним городах в 4.5 раза**. \n",
    "    5. С помощью линейного графика было исследовано влияние отдаленности квартиры от центра на его цену<br>\n",
    "    Выявлено, что **высока скорость падения цен на жилье при удаления от центра на первые 3 километра**, а **с 9 километра цена движется гораздо плавнее**, несмотря на то, что **график демонстрирует неожиданные пики в точках 43 и 55 километров**.<br>\n",
    "\n",
    "В качестве вывода, отсносящегося к методологии работы с данными, скажем, что **стало очевидным влияние выбросов, аномальных и нехарактерных для набора данных значений - именно они исказили нормальное распределение почти каждой характеристики**, кроме того, **была отчетливо прояснена важность применения тех или иных инструментов анализа данных, начиная от подбора библиотеки для визуализации, заканчивая выбором метода оценки характерного и наиболее частого для набора значения**, и, наконец, **выказала свою существенность необходимость наличия экспертных знаний в области, скажем, в вопросе определения соответствия рыночной норме той или иной высоты потолков, количества этажей в доме, балконов в квартире и т.д.**. "
   ]
  },
  {
   "cell_type": "code",
   "execution_count": null,
   "id": "de46c318",
   "metadata": {},
   "outputs": [],
   "source": []
  }
 ],
 "metadata": {
  "ExecuteTimeLog": [
   {
    "duration": 438,
    "start_time": "2022-10-23T15:17:18.047Z"
   },
   {
    "duration": 136,
    "start_time": "2022-10-23T15:17:18.487Z"
   },
   {
    "duration": 0,
    "start_time": "2022-10-23T15:17:18.625Z"
   },
   {
    "duration": 0,
    "start_time": "2022-10-23T15:17:18.626Z"
   },
   {
    "duration": 1,
    "start_time": "2022-10-23T15:17:18.626Z"
   },
   {
    "duration": 72,
    "start_time": "2022-10-23T15:17:44.313Z"
   },
   {
    "duration": 343,
    "start_time": "2022-10-23T15:17:49.820Z"
   },
   {
    "duration": 4,
    "start_time": "2022-10-23T15:17:51.618Z"
   },
   {
    "duration": 14,
    "start_time": "2022-10-23T15:17:52.034Z"
   },
   {
    "duration": 2219,
    "start_time": "2022-10-23T15:17:53.083Z"
   },
   {
    "duration": 9,
    "start_time": "2022-10-23T15:19:27.970Z"
   },
   {
    "duration": 11,
    "start_time": "2022-10-23T15:22:12.841Z"
   },
   {
    "duration": 9,
    "start_time": "2022-10-23T15:22:13.492Z"
   },
   {
    "duration": 5,
    "start_time": "2022-10-23T15:22:22.255Z"
   },
   {
    "duration": 7,
    "start_time": "2022-10-23T15:22:47.467Z"
   },
   {
    "duration": 8,
    "start_time": "2022-10-23T15:22:48.084Z"
   },
   {
    "duration": 8,
    "start_time": "2022-10-23T15:22:49.119Z"
   },
   {
    "duration": 6,
    "start_time": "2022-10-23T15:25:50.971Z"
   },
   {
    "duration": 5,
    "start_time": "2022-10-23T15:25:52.671Z"
   },
   {
    "duration": 78,
    "start_time": "2022-10-23T15:25:59.615Z"
   },
   {
    "duration": 2,
    "start_time": "2022-10-23T15:26:13.616Z"
   },
   {
    "duration": 113,
    "start_time": "2022-10-23T15:26:13.620Z"
   },
   {
    "duration": 3,
    "start_time": "2022-10-23T15:26:13.735Z"
   },
   {
    "duration": 20,
    "start_time": "2022-10-23T15:26:13.740Z"
   },
   {
    "duration": 1927,
    "start_time": "2022-10-23T15:26:13.761Z"
   },
   {
    "duration": 8,
    "start_time": "2022-10-23T15:26:15.690Z"
   },
   {
    "duration": 11,
    "start_time": "2022-10-23T15:26:15.700Z"
   },
   {
    "duration": 7,
    "start_time": "2022-10-23T15:26:15.713Z"
   },
   {
    "duration": 4,
    "start_time": "2022-10-23T15:26:15.722Z"
   },
   {
    "duration": 8,
    "start_time": "2022-10-23T15:26:15.727Z"
   },
   {
    "duration": 16,
    "start_time": "2022-10-23T15:26:15.736Z"
   },
   {
    "duration": 32,
    "start_time": "2022-10-23T15:26:15.754Z"
   },
   {
    "duration": 18,
    "start_time": "2022-10-23T15:26:15.787Z"
   },
   {
    "duration": 25,
    "start_time": "2022-10-23T15:26:15.806Z"
   },
   {
    "duration": 9,
    "start_time": "2022-10-23T15:26:15.832Z"
   },
   {
    "duration": 12,
    "start_time": "2022-10-23T15:26:15.842Z"
   },
   {
    "duration": 47,
    "start_time": "2022-10-23T15:26:15.855Z"
   },
   {
    "duration": 7,
    "start_time": "2022-10-23T15:26:15.904Z"
   },
   {
    "duration": 6,
    "start_time": "2022-10-23T15:26:15.912Z"
   },
   {
    "duration": 7,
    "start_time": "2022-10-23T15:26:15.920Z"
   },
   {
    "duration": 5,
    "start_time": "2022-10-23T15:26:15.929Z"
   },
   {
    "duration": 122,
    "start_time": "2022-10-23T15:26:23.596Z"
   },
   {
    "duration": 479,
    "start_time": "2022-10-23T15:26:35.636Z"
   },
   {
    "duration": 94,
    "start_time": "2022-10-23T15:26:40.158Z"
   },
   {
    "duration": 5,
    "start_time": "2022-10-23T15:26:40.943Z"
   },
   {
    "duration": 64,
    "start_time": "2022-10-23T15:28:28.026Z"
   },
   {
    "duration": 19,
    "start_time": "2022-10-23T15:28:29.390Z"
   },
   {
    "duration": 7,
    "start_time": "2022-10-23T15:28:29.896Z"
   },
   {
    "duration": 20,
    "start_time": "2022-10-23T15:28:30.335Z"
   },
   {
    "duration": 20,
    "start_time": "2022-10-23T15:28:35.045Z"
   },
   {
    "duration": 5,
    "start_time": "2022-10-23T15:29:08.492Z"
   },
   {
    "duration": 7,
    "start_time": "2022-10-23T15:29:09.222Z"
   },
   {
    "duration": 17,
    "start_time": "2022-10-23T15:29:09.449Z"
   },
   {
    "duration": 7,
    "start_time": "2022-10-23T15:29:11.821Z"
   },
   {
    "duration": 3,
    "start_time": "2022-10-23T15:32:22.920Z"
   },
   {
    "duration": 98,
    "start_time": "2022-10-23T15:32:22.929Z"
   },
   {
    "duration": 4,
    "start_time": "2022-10-23T15:32:23.029Z"
   },
   {
    "duration": 33,
    "start_time": "2022-10-23T15:32:23.034Z"
   },
   {
    "duration": 1991,
    "start_time": "2022-10-23T15:32:23.069Z"
   },
   {
    "duration": 8,
    "start_time": "2022-10-23T15:32:25.062Z"
   },
   {
    "duration": 20,
    "start_time": "2022-10-23T15:32:25.072Z"
   },
   {
    "duration": 9,
    "start_time": "2022-10-23T15:32:25.093Z"
   },
   {
    "duration": 10,
    "start_time": "2022-10-23T15:32:25.103Z"
   },
   {
    "duration": 9,
    "start_time": "2022-10-23T15:32:25.115Z"
   },
   {
    "duration": 23,
    "start_time": "2022-10-23T15:32:25.127Z"
   },
   {
    "duration": 7,
    "start_time": "2022-10-23T15:32:25.152Z"
   },
   {
    "duration": 24,
    "start_time": "2022-10-23T15:32:25.161Z"
   },
   {
    "duration": 16,
    "start_time": "2022-10-23T15:32:25.187Z"
   },
   {
    "duration": 8,
    "start_time": "2022-10-23T15:32:25.205Z"
   },
   {
    "duration": 14,
    "start_time": "2022-10-23T15:32:25.215Z"
   },
   {
    "duration": 15,
    "start_time": "2022-10-23T15:32:25.230Z"
   },
   {
    "duration": 8,
    "start_time": "2022-10-23T15:32:25.247Z"
   },
   {
    "duration": 32,
    "start_time": "2022-10-23T15:32:25.257Z"
   },
   {
    "duration": 8,
    "start_time": "2022-10-23T15:32:25.290Z"
   },
   {
    "duration": 13,
    "start_time": "2022-10-23T15:32:25.300Z"
   },
   {
    "duration": 486,
    "start_time": "2022-10-23T15:32:25.315Z"
   },
   {
    "duration": 5,
    "start_time": "2022-10-23T15:32:25.803Z"
   },
   {
    "duration": 78,
    "start_time": "2022-10-23T15:32:25.809Z"
   },
   {
    "duration": 17,
    "start_time": "2022-10-23T15:32:25.889Z"
   },
   {
    "duration": 7,
    "start_time": "2022-10-23T15:32:25.908Z"
   },
   {
    "duration": 19,
    "start_time": "2022-10-23T15:32:25.916Z"
   },
   {
    "duration": 48,
    "start_time": "2022-10-23T15:32:25.937Z"
   },
   {
    "duration": 5,
    "start_time": "2022-10-23T15:32:25.989Z"
   },
   {
    "duration": 8,
    "start_time": "2022-10-23T15:32:25.996Z"
   },
   {
    "duration": 17,
    "start_time": "2022-10-23T15:32:26.006Z"
   },
   {
    "duration": 6,
    "start_time": "2022-10-23T15:32:26.025Z"
   },
   {
    "duration": 8,
    "start_time": "2022-10-23T15:32:26.032Z"
   },
   {
    "duration": 5,
    "start_time": "2022-10-23T15:32:26.042Z"
   },
   {
    "duration": 39,
    "start_time": "2022-10-23T15:32:26.048Z"
   },
   {
    "duration": 21,
    "start_time": "2022-10-23T15:32:26.089Z"
   },
   {
    "duration": 20,
    "start_time": "2022-10-23T15:32:26.111Z"
   },
   {
    "duration": 9,
    "start_time": "2022-10-23T15:32:26.132Z"
   },
   {
    "duration": 12,
    "start_time": "2022-10-23T15:32:26.142Z"
   },
   {
    "duration": 8,
    "start_time": "2022-10-23T15:32:26.155Z"
   },
   {
    "duration": 21,
    "start_time": "2022-10-23T15:32:26.164Z"
   },
   {
    "duration": 8,
    "start_time": "2022-10-23T15:32:26.187Z"
   },
   {
    "duration": 9,
    "start_time": "2022-10-23T15:32:26.196Z"
   },
   {
    "duration": 5,
    "start_time": "2022-10-23T15:32:26.207Z"
   },
   {
    "duration": 13,
    "start_time": "2022-10-23T15:32:26.213Z"
   },
   {
    "duration": 7,
    "start_time": "2022-10-23T15:32:26.227Z"
   },
   {
    "duration": 12,
    "start_time": "2022-10-23T15:32:26.235Z"
   },
   {
    "duration": 36,
    "start_time": "2022-10-23T15:32:26.249Z"
   },
   {
    "duration": 3,
    "start_time": "2022-10-23T15:37:52.831Z"
   },
   {
    "duration": 97,
    "start_time": "2022-10-23T15:37:52.837Z"
   },
   {
    "duration": 4,
    "start_time": "2022-10-23T15:37:52.935Z"
   },
   {
    "duration": 16,
    "start_time": "2022-10-23T15:37:52.941Z"
   },
   {
    "duration": 2105,
    "start_time": "2022-10-23T15:37:52.959Z"
   },
   {
    "duration": 21,
    "start_time": "2022-10-23T15:37:55.066Z"
   },
   {
    "duration": 9,
    "start_time": "2022-10-23T15:37:55.089Z"
   },
   {
    "duration": 8,
    "start_time": "2022-10-23T15:37:55.100Z"
   },
   {
    "duration": 6,
    "start_time": "2022-10-23T15:37:55.110Z"
   },
   {
    "duration": 7,
    "start_time": "2022-10-23T15:37:55.118Z"
   },
   {
    "duration": 9,
    "start_time": "2022-10-23T15:37:55.127Z"
   },
   {
    "duration": 12,
    "start_time": "2022-10-23T15:37:55.137Z"
   },
   {
    "duration": 40,
    "start_time": "2022-10-23T15:37:55.150Z"
   },
   {
    "duration": 15,
    "start_time": "2022-10-23T15:37:55.192Z"
   },
   {
    "duration": 28,
    "start_time": "2022-10-23T15:37:55.209Z"
   },
   {
    "duration": 31,
    "start_time": "2022-10-23T15:37:55.239Z"
   },
   {
    "duration": 19,
    "start_time": "2022-10-23T15:37:55.272Z"
   },
   {
    "duration": 9,
    "start_time": "2022-10-23T15:37:55.293Z"
   },
   {
    "duration": 6,
    "start_time": "2022-10-23T15:37:55.304Z"
   },
   {
    "duration": 7,
    "start_time": "2022-10-23T15:37:55.311Z"
   },
   {
    "duration": 11,
    "start_time": "2022-10-23T15:37:55.320Z"
   },
   {
    "duration": 472,
    "start_time": "2022-10-23T15:37:55.333Z"
   },
   {
    "duration": 6,
    "start_time": "2022-10-23T15:37:55.806Z"
   },
   {
    "duration": 73,
    "start_time": "2022-10-23T15:37:55.813Z"
   },
   {
    "duration": 16,
    "start_time": "2022-10-23T15:37:55.887Z"
   },
   {
    "duration": 6,
    "start_time": "2022-10-23T15:37:55.904Z"
   },
   {
    "duration": 23,
    "start_time": "2022-10-23T15:37:55.912Z"
   },
   {
    "duration": 20,
    "start_time": "2022-10-23T15:37:55.937Z"
   },
   {
    "duration": 6,
    "start_time": "2022-10-23T15:37:55.985Z"
   },
   {
    "duration": 8,
    "start_time": "2022-10-23T15:37:55.993Z"
   },
   {
    "duration": 17,
    "start_time": "2022-10-23T15:37:56.003Z"
   },
   {
    "duration": 8,
    "start_time": "2022-10-23T15:37:56.021Z"
   },
   {
    "duration": 9,
    "start_time": "2022-10-23T15:37:56.030Z"
   },
   {
    "duration": 6,
    "start_time": "2022-10-23T15:37:56.041Z"
   },
   {
    "duration": 5,
    "start_time": "2022-10-23T15:37:56.048Z"
   },
   {
    "duration": 37,
    "start_time": "2022-10-23T15:37:56.054Z"
   },
   {
    "duration": 19,
    "start_time": "2022-10-23T15:37:56.092Z"
   },
   {
    "duration": 9,
    "start_time": "2022-10-23T15:37:56.112Z"
   },
   {
    "duration": 8,
    "start_time": "2022-10-23T15:37:56.122Z"
   },
   {
    "duration": 11,
    "start_time": "2022-10-23T15:37:56.132Z"
   },
   {
    "duration": 7,
    "start_time": "2022-10-23T15:37:56.144Z"
   },
   {
    "duration": 38,
    "start_time": "2022-10-23T15:37:56.152Z"
   },
   {
    "duration": 8,
    "start_time": "2022-10-23T15:37:56.191Z"
   },
   {
    "duration": 10,
    "start_time": "2022-10-23T15:37:56.200Z"
   },
   {
    "duration": 8,
    "start_time": "2022-10-23T15:37:56.212Z"
   },
   {
    "duration": 7,
    "start_time": "2022-10-23T15:37:56.221Z"
   },
   {
    "duration": 10,
    "start_time": "2022-10-23T15:37:56.229Z"
   },
   {
    "duration": 18,
    "start_time": "2022-10-23T15:37:56.240Z"
   },
   {
    "duration": 3,
    "start_time": "2022-10-23T15:37:56.260Z"
   },
   {
    "duration": 7,
    "start_time": "2022-10-23T15:37:56.285Z"
   },
   {
    "duration": 10,
    "start_time": "2022-10-23T15:37:56.293Z"
   },
   {
    "duration": 3,
    "start_time": "2022-10-23T15:37:56.305Z"
   },
   {
    "duration": 383,
    "start_time": "2022-10-23T15:37:56.309Z"
   },
   {
    "duration": 4,
    "start_time": "2022-10-23T15:37:56.694Z"
   },
   {
    "duration": 1099,
    "start_time": "2022-10-23T15:37:56.699Z"
   },
   {
    "duration": 6,
    "start_time": "2022-10-23T15:37:57.799Z"
   },
   {
    "duration": 211,
    "start_time": "2022-10-23T15:37:57.806Z"
   },
   {
    "duration": 5,
    "start_time": "2022-10-23T15:37:58.019Z"
   },
   {
    "duration": 160,
    "start_time": "2022-10-23T15:37:58.025Z"
   },
   {
    "duration": 4,
    "start_time": "2022-10-23T15:37:58.187Z"
   },
   {
    "duration": 124,
    "start_time": "2022-10-23T15:37:58.193Z"
   },
   {
    "duration": 4,
    "start_time": "2022-10-23T15:37:58.319Z"
   },
   {
    "duration": 61,
    "start_time": "2022-10-23T15:37:58.325Z"
   },
   {
    "duration": 264,
    "start_time": "2022-10-23T15:37:58.388Z"
   },
   {
    "duration": 5,
    "start_time": "2022-10-23T15:37:58.653Z"
   },
   {
    "duration": 28,
    "start_time": "2022-10-23T15:37:58.659Z"
   },
   {
    "duration": 136,
    "start_time": "2022-10-23T15:37:58.688Z"
   },
   {
    "duration": 4,
    "start_time": "2022-10-23T15:37:58.826Z"
   },
   {
    "duration": 125,
    "start_time": "2022-10-23T15:37:58.832Z"
   },
   {
    "duration": 3,
    "start_time": "2022-10-23T15:37:58.959Z"
   },
   {
    "duration": 175,
    "start_time": "2022-10-23T15:37:58.964Z"
   },
   {
    "duration": 177,
    "start_time": "2022-10-23T15:37:59.140Z"
   },
   {
    "duration": 5,
    "start_time": "2022-10-23T15:37:59.319Z"
   },
   {
    "duration": 295,
    "start_time": "2022-10-23T15:37:59.326Z"
   },
   {
    "duration": 4,
    "start_time": "2022-10-23T15:37:59.623Z"
   },
   {
    "duration": 148,
    "start_time": "2022-10-23T15:37:59.629Z"
   },
   {
    "duration": 9,
    "start_time": "2022-10-23T15:37:59.778Z"
   },
   {
    "duration": 143,
    "start_time": "2022-10-23T15:37:59.788Z"
   },
   {
    "duration": 6,
    "start_time": "2022-10-23T15:37:59.932Z"
   },
   {
    "duration": 125,
    "start_time": "2022-10-23T15:37:59.939Z"
   },
   {
    "duration": 113,
    "start_time": "2022-10-23T15:38:00.065Z"
   },
   {
    "duration": 312,
    "start_time": "2022-10-23T15:38:00.185Z"
   },
   {
    "duration": 5,
    "start_time": "2022-10-23T15:38:00.502Z"
   },
   {
    "duration": 22,
    "start_time": "2022-10-23T15:38:00.508Z"
   },
   {
    "duration": 7,
    "start_time": "2022-10-23T15:38:00.531Z"
   },
   {
    "duration": 1017,
    "start_time": "2022-10-23T15:38:00.540Z"
   },
   {
    "duration": 5,
    "start_time": "2022-10-23T15:38:01.558Z"
   },
   {
    "duration": 295,
    "start_time": "2022-10-23T15:38:01.565Z"
   },
   {
    "duration": 277,
    "start_time": "2022-10-23T15:38:01.862Z"
   },
   {
    "duration": 712,
    "start_time": "2022-10-23T15:38:02.141Z"
   },
   {
    "duration": 5,
    "start_time": "2022-10-23T15:38:02.855Z"
   },
   {
    "duration": 24,
    "start_time": "2022-10-23T15:38:02.861Z"
   },
   {
    "duration": 573,
    "start_time": "2022-10-23T15:38:02.887Z"
   },
   {
    "duration": 6,
    "start_time": "2022-10-23T15:38:03.461Z"
   },
   {
    "duration": 345,
    "start_time": "2022-10-23T15:38:03.468Z"
   },
   {
    "duration": 441,
    "start_time": "2022-10-23T15:38:03.814Z"
   },
   {
    "duration": 5,
    "start_time": "2022-10-23T15:38:04.256Z"
   },
   {
    "duration": 258,
    "start_time": "2022-10-23T15:38:04.263Z"
   },
   {
    "duration": 72,
    "start_time": "2022-10-23T15:38:04.523Z"
   },
   {
    "duration": 2,
    "start_time": "2022-10-23T15:38:04.597Z"
   },
   {
    "duration": 405,
    "start_time": "2022-10-23T15:38:04.601Z"
   },
   {
    "duration": 620,
    "start_time": "2022-10-23T15:38:05.008Z"
   },
   {
    "duration": 56,
    "start_time": "2022-10-23T15:38:05.631Z"
   },
   {
    "duration": 766,
    "start_time": "2022-10-23T15:38:05.688Z"
   },
   {
    "duration": 5,
    "start_time": "2022-10-23T15:38:06.456Z"
   },
   {
    "duration": 51,
    "start_time": "2022-10-23T15:38:06.462Z"
   },
   {
    "duration": 467,
    "start_time": "2022-10-23T15:38:06.514Z"
   },
   {
    "duration": 6,
    "start_time": "2022-10-23T15:38:06.986Z"
   },
   {
    "duration": 92,
    "start_time": "2022-10-23T15:38:06.994Z"
   },
   {
    "duration": 481,
    "start_time": "2022-10-23T15:38:07.088Z"
   },
   {
    "duration": 15,
    "start_time": "2022-10-23T15:38:07.571Z"
   },
   {
    "duration": 33,
    "start_time": "2022-10-23T15:38:07.587Z"
   },
   {
    "duration": 83,
    "start_time": "2022-10-23T15:38:07.621Z"
   },
   {
    "duration": 13,
    "start_time": "2022-10-23T15:38:07.705Z"
   },
   {
    "duration": 81,
    "start_time": "2022-10-23T15:38:07.719Z"
   },
   {
    "duration": 452,
    "start_time": "2022-10-23T15:51:38.833Z"
   }
  ],
  "kernelspec": {
   "display_name": "Python 3 (ipykernel)",
   "language": "python",
   "name": "python3"
  },
  "language_info": {
   "codemirror_mode": {
    "name": "ipython",
    "version": 3
   },
   "file_extension": ".py",
   "mimetype": "text/x-python",
   "name": "python",
   "nbconvert_exporter": "python",
   "pygments_lexer": "ipython3",
   "version": "3.9.12"
  },
  "toc": {
   "base_numbering": 1,
   "nav_menu": {},
   "number_sections": true,
   "sideBar": true,
   "skip_h1_title": true,
   "title_cell": "Table of Contents",
   "title_sidebar": "Contents",
   "toc_cell": false,
   "toc_position": {},
   "toc_section_display": true,
   "toc_window_display": false
  }
 },
 "nbformat": 4,
 "nbformat_minor": 5
}
